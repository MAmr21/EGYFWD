{
 "cells": [
  {
   "cell_type": "code",
   "execution_count": 1,
   "metadata": {},
   "outputs": [
    {
     "name": "stderr",
     "output_type": "stream",
     "text": [
      "[nltk_data] Downloading package stopwords to\n",
      "[nltk_data]     C:\\Users\\M\\AppData\\Roaming\\nltk_data...\n",
      "[nltk_data]   Package stopwords is already up-to-date!\n",
      "[nltk_data] Downloading package punkt to\n",
      "[nltk_data]     C:\\Users\\M\\AppData\\Roaming\\nltk_data...\n",
      "[nltk_data]   Package punkt is already up-to-date!\n",
      "[nltk_data] Downloading package wordnet to\n",
      "[nltk_data]     C:\\Users\\M\\AppData\\Roaming\\nltk_data...\n",
      "[nltk_data]   Package wordnet is already up-to-date!\n",
      "[nltk_data] Downloading package omw-1.4 to\n",
      "[nltk_data]     C:\\Users\\M\\AppData\\Roaming\\nltk_data...\n",
      "[nltk_data]   Package omw-1.4 is already up-to-date!\n"
     ]
    }
   ],
   "source": [
    "#Importing Libs\n",
    "\n",
    "import pandas as pd\n",
    "import numpy as np\n",
    "import matplotlib.pyplot as plt\n",
    "\n",
    "from wordcloud import WordCloud\n",
    "\n",
    "import nltk\n",
    "from nltk.corpus import stopwords\n",
    "from nltk.stem import WordNetLemmatizer\n",
    "from nltk.tokenize import word_tokenize\n",
    "\n",
    "nltk.download('stopwords')\n",
    "nltk.download('punkt')\n",
    "nltk.download('wordnet')\n",
    "nltk.download('omw-1.4')\n",
    "\n",
    "from sklearn.feature_extraction.text import CountVectorizer\n",
    "from sklearn.model_selection import train_test_split\n",
    "from sklearn.metrics import accuracy_score\n",
    "from sklearn.metrics import classification_report\n",
    "from sklearn.metrics import precision_recall_fscore_support as score\n",
    "from sklearn.multiclass import OneVsRestClassifier\n",
    "from sklearn.linear_model import LogisticRegression\n",
    "from sklearn.svm import SVC\n",
    "from sklearn.tree import DecisionTreeClassifier\n",
    "from sklearn.ensemble import RandomForestClassifier\n",
    "from sklearn.neighbors import KNeighborsClassifier\n",
    "from sklearn.naive_bayes import GaussianNB,MultinomialNB\n",
    "\n",
    "\n",
    "np.random.seed(0) #Setting the seed globally since sklearn uses numpy https://www.mikulskibartosz.name/how-to-set-the-global-random_state-in-scikit-learn/\n",
    "\n",
    "from sklearn.cluster import KMeans\n",
    "from sklearn.metrics import silhouette_score"
   ]
  },
  {
   "cell_type": "markdown",
   "metadata": {},
   "source": [
    "## importing the dataset and exploring"
   ]
  },
  {
   "cell_type": "markdown",
   "metadata": {},
   "source": [
    "There're three columns, body, title, and category (which we're trying to classify).  \n",
    "We also see there is 2481 records and none have empty values."
   ]
  },
  {
   "cell_type": "code",
   "execution_count": 2,
   "metadata": {},
   "outputs": [
    {
     "data": {
      "text/html": [
       "<div>\n",
       "<style scoped>\n",
       "    .dataframe tbody tr th:only-of-type {\n",
       "        vertical-align: middle;\n",
       "    }\n",
       "\n",
       "    .dataframe tbody tr th {\n",
       "        vertical-align: top;\n",
       "    }\n",
       "\n",
       "    .dataframe thead th {\n",
       "        text-align: right;\n",
       "    }\n",
       "</style>\n",
       "<table border=\"1\" class=\"dataframe\">\n",
       "  <thead>\n",
       "    <tr style=\"text-align: right;\">\n",
       "      <th></th>\n",
       "      <th>body</th>\n",
       "      <th>title</th>\n",
       "      <th>category</th>\n",
       "    </tr>\n",
       "  </thead>\n",
       "  <tbody>\n",
       "    <tr>\n",
       "      <th>2476</th>\n",
       "      <td>At the Early Stage, Focus on Unit Economic Pro...</td>\n",
       "      <td>At the Early Stage, Focus on Unit Economic Pro...</td>\n",
       "      <td>Startups &amp; Business</td>\n",
       "    </tr>\n",
       "    <tr>\n",
       "      <th>2477</th>\n",
       "      <td>5 Tips to Nail a Successful Product Launch\\n\\n...</td>\n",
       "      <td>5 Tips to Nail a Successful Product Launch</td>\n",
       "      <td>Startups &amp; Business</td>\n",
       "    </tr>\n",
       "    <tr>\n",
       "      <th>2478</th>\n",
       "      <td>Routes to Defensibility for your AI Startup\\n\\...</td>\n",
       "      <td>Routes to Defensibility for your AI Startup</td>\n",
       "      <td>Engineering</td>\n",
       "    </tr>\n",
       "    <tr>\n",
       "      <th>2479</th>\n",
       "      <td>Faster. Faster. Faster.\\r\\n\\r\\nI’d like to tal...</td>\n",
       "      <td>Faster. Faster. Faster.</td>\n",
       "      <td>Product &amp; Design</td>\n",
       "    </tr>\n",
       "    <tr>\n",
       "      <th>2480</th>\n",
       "      <td>Netflix is a place where people win. They exce...</td>\n",
       "      <td>Humans Hate Being Spun: How to Practice Radica...</td>\n",
       "      <td>Startups &amp; Business</td>\n",
       "    </tr>\n",
       "  </tbody>\n",
       "</table>\n",
       "</div>"
      ],
      "text/plain": [
       "                                                   body  \\\n",
       "2476  At the Early Stage, Focus on Unit Economic Pro...   \n",
       "2477  5 Tips to Nail a Successful Product Launch\\n\\n...   \n",
       "2478  Routes to Defensibility for your AI Startup\\n\\...   \n",
       "2479  Faster. Faster. Faster.\\r\\n\\r\\nI’d like to tal...   \n",
       "2480  Netflix is a place where people win. They exce...   \n",
       "\n",
       "                                                  title             category  \n",
       "2476  At the Early Stage, Focus on Unit Economic Pro...  Startups & Business  \n",
       "2477         5 Tips to Nail a Successful Product Launch  Startups & Business  \n",
       "2478        Routes to Defensibility for your AI Startup          Engineering  \n",
       "2479                            Faster. Faster. Faster.     Product & Design  \n",
       "2480  Humans Hate Being Spun: How to Practice Radica...  Startups & Business  "
      ]
     },
     "execution_count": 2,
     "metadata": {},
     "output_type": "execute_result"
    }
   ],
   "source": [
    "df = pd.read_json(\"articles.json\")\n",
    "df.tail()"
   ]
  },
  {
   "cell_type": "code",
   "execution_count": 3,
   "metadata": {},
   "outputs": [
    {
     "name": "stdout",
     "output_type": "stream",
     "text": [
      "<class 'pandas.core.frame.DataFrame'>\n",
      "RangeIndex: 2481 entries, 0 to 2480\n",
      "Data columns (total 3 columns):\n",
      " #   Column    Non-Null Count  Dtype \n",
      "---  ------    --------------  ----- \n",
      " 0   body      2481 non-null   object\n",
      " 1   title     2481 non-null   object\n",
      " 2   category  2481 non-null   object\n",
      "dtypes: object(3)\n",
      "memory usage: 58.3+ KB\n",
      "None\n"
     ]
    }
   ],
   "source": [
    "print(df.info())"
   ]
  },
  {
   "cell_type": "code",
   "execution_count": 4,
   "metadata": {},
   "outputs": [
    {
     "data": {
      "text/plain": [
       "'Protecting Netflix Viewing Privacy at Scale\\r\\n\\r\\nOn the Open Connect team at Netflix, we are always working to enhance the hardware and software in the purpose-built Open Connect Appliances (OCAs) that store and serve Netflix video content. As we mentioned in a recent company blog post, since the beginning of the Open Connect program we have significantly increased the efficiency of our OCAs — from delivering 8 Gbps of throughput from a single server in 2012 to over 90 Gbps from a single server in 2016. We contribute to this effort on the software side by optimizing every aspect of the software for our unique use case — in particular, focusing on the open source FreeBSD operating system and the NGINX web server that run on the OCAs.\\r\\n\\r\\nMembers of the team will be presenting a technical session on this topic at the Intel Developer Forum (IDF16) in San Francisco this month. This blog introduces some of the work we’ve done.\\r\\n\\r\\nAdding TLS to Video Streams\\r\\n\\r\\nIn the modern internet world, we have to focus not only on efficiency, but also security. There are many state-of-the-art security mechanisms in place at Netflix, including Transport Level Security (TLS) encryption of customer information, search queries, and other confidential data. We have always relied on pre-encoded Digital Rights Management (DRM) to secure our video streams. Over the past year, we’ve begun to use Secure HTTP (HTTP over TLS or HTTPS) to encrypt the transport of the video content as well. This helps protect member privacy, particularly when the network is insecure — ensuring that our members are safe from eavesdropping by anyone who might want to record their viewing habits.\\r\\n\\r\\nNetflix Open Connect serves over 125 million hours of content per day, all around the world. Given our scale, adding the overhead of TLS encryption calculations to our video stream transport had the potential to greatly reduce the efficiency of our global infrastructure. We take this efficiency seriously, so we had to find creative ways to enhance the software on our OCAs to accomplish this objective.\\r\\n\\r\\nWe will describe our work in these three main areas:\\r\\n\\r\\nDetermining the ideal cipher for bulk encryption\\r\\n\\r\\nFinding the best implementation of the chosen cipher\\r\\n\\r\\nExploring ways to improve the data path to and from the cipher implementation\\r\\n\\r\\nCipher Evaluation\\r\\n\\r\\nWe evaluated available and applicable ciphers and decided to primarily use the Advanced Encryption Standard (AES) cipher in Galois/Counter Mode (GCM), available starting in TLS 1.2. We chose AES-GCM over the Cipher Block Chaining (CBC) method, which comes at a higher computational cost. The AES-GCM cipher algorithm encrypts and authenticates the message simultaneously — as opposed to AES-CBC, which requires an additional pass over the data to generate keyed-hash message authentication code (HMAC). CBC can still be used as a fallback for clients that cannot support the preferred method.\\r\\n\\r\\nAll revisions of Open Connect Appliances also have Intel CPUs that support AES-NI, the extension to the x86 instruction set designed to improve encryption and decryption performance.\\r\\n\\r\\nWe needed to determine the best implementation of AES-GCM with the AES-NI instruction set, so we investigated alternatives to OpenSSL, including BoringSSL and the Intel Intelligent Storage Acceleration Library (ISA-L).\\r\\n\\r\\nAdditional Optimizations\\r\\n\\r\\nNetflix and NGINX had previously worked together to improve our HTTP client request and response time via the use of sendfile calls to perform a zero-copy data flow from storage (HDD or SSD) to network socket, keeping the data in the kernel memory address space and relieving some of the CPU burden. The Netflix team specifically added the ability to make the sendfile calls asynchronous — further reducing the data path and enabling more simultaneous connections.\\r\\n\\r\\nHowever, TLS functionality, which requires the data to be passed to the application layer, was incompatible with the sendfile approach.\\r\\n\\r\\nTo retain the benefits of the sendfile model while adding TLS functionality, we designed a hybrid TLS scheme whereby session management stays in the application space, but the bulk encryption is inserted into the sendfile data pipeline in the kernel. This extends sendfile to support encrypting data for TLS/SSL connections.\\r\\n\\r\\nWe also made some important fixes to our earlier data path implementation, including eliminating the need to repeatedly traverse mbuf linked lists to gain addresses for encryption.\\r\\n\\r\\nTesting and Results\\r\\n\\r\\nWe tested the BoringSSL and ISA-L AES-GCM implementations with our sendfile improvements against a baseline of OpenSSL (with no sendfile changes), under typical Netflix traffic conditions on three different OCA hardware types. Our changes in both the BoringSSL and ISA-L test situations significantly increased both CPU utilization and bandwidth over baseline — increasing performance by up to 30%, depending on the OCA hardware version. We chose the ISA-L cipher implementation, which had slightly better results. With these improvements in place, we can continue the process of adding TLS to our video streams for clients that support it, without suffering prohibitive performance hits.\\r\\n\\r\\nRead more details in this paper and the follow up paper. We continue to investigate new and novel approaches to making both security and performance a reality. If this kind of ground-breaking work is up your alley, check out our latest job openings!\\r\\n\\r\\n— by Randall Stewart, Scott Long, Drew Gallatin, Alex Gutarin, and Ellen Livengood'"
      ]
     },
     "execution_count": 4,
     "metadata": {},
     "output_type": "execute_result"
    }
   ],
   "source": [
    "df[\"body\"][0]"
   ]
  },
  {
   "cell_type": "markdown",
   "metadata": {},
   "source": [
    "Looking at one of the articles, we see that we would need to normalize all to lower case and remove special characters and keep only alphanumerical ones."
   ]
  },
  {
   "cell_type": "markdown",
   "metadata": {},
   "source": [
    "### Cleaning up to prepare for the model."
   ]
  },
  {
   "cell_type": "markdown",
   "metadata": {},
   "source": [
    "Converting all text to lower case."
   ]
  },
  {
   "cell_type": "code",
   "execution_count": 5,
   "metadata": {},
   "outputs": [],
   "source": [
    "df['body_org'] = df['body']\n",
    "df['title_org'] = df['title']\n",
    "df['body'] = df['body'].str.lower()\n",
    "df['title'] = df['title'].str.lower()"
   ]
  },
  {
   "cell_type": "markdown",
   "metadata": {},
   "source": [
    "Checking for duplicates"
   ]
  },
  {
   "cell_type": "code",
   "execution_count": 6,
   "metadata": {},
   "outputs": [
    {
     "name": "stdout",
     "output_type": "stream",
     "text": [
      "29\n",
      "101\n"
     ]
    }
   ],
   "source": [
    "print(df.duplicated(subset=['title']).sum())\n",
    "print(df.duplicated(subset=['body']).sum())"
   ]
  },
  {
   "cell_type": "code",
   "execution_count": 7,
   "metadata": {},
   "outputs": [
    {
     "data": {
      "text/html": [
       "<div>\n",
       "<style scoped>\n",
       "    .dataframe tbody tr th:only-of-type {\n",
       "        vertical-align: middle;\n",
       "    }\n",
       "\n",
       "    .dataframe tbody tr th {\n",
       "        vertical-align: top;\n",
       "    }\n",
       "\n",
       "    .dataframe thead th {\n",
       "        text-align: right;\n",
       "    }\n",
       "</style>\n",
       "<table border=\"1\" class=\"dataframe\">\n",
       "  <thead>\n",
       "    <tr style=\"text-align: right;\">\n",
       "      <th></th>\n",
       "      <th>body</th>\n",
       "      <th>title</th>\n",
       "      <th>category</th>\n",
       "      <th>body_org</th>\n",
       "      <th>title_org</th>\n",
       "    </tr>\n",
       "  </thead>\n",
       "  <tbody>\n",
       "    <tr>\n",
       "      <th>1878</th>\n",
       "      <td></td>\n",
       "      <td>practical marketing tips for saas businesses</td>\n",
       "      <td>Startups &amp; Business</td>\n",
       "      <td></td>\n",
       "      <td>Practical Marketing Tips for SAAS Businesses</td>\n",
       "    </tr>\n",
       "    <tr>\n",
       "      <th>695</th>\n",
       "      <td></td>\n",
       "      <td>introducing ohana, uber engineering’s ios cont...</td>\n",
       "      <td>Engineering</td>\n",
       "      <td></td>\n",
       "      <td>Introducing Ohana, Uber Engineering’s iOS Cont...</td>\n",
       "    </tr>\n",
       "    <tr>\n",
       "      <th>1947</th>\n",
       "      <td></td>\n",
       "      <td>what most billion-dollar startups have in common</td>\n",
       "      <td>Startups &amp; Business</td>\n",
       "      <td></td>\n",
       "      <td>What Most Billion-Dollar Startups Have in Common</td>\n",
       "    </tr>\n",
       "    <tr>\n",
       "      <th>744</th>\n",
       "      <td></td>\n",
       "      <td>how long will it take for my startup to be suc...</td>\n",
       "      <td>Startups &amp; Business</td>\n",
       "      <td></td>\n",
       "      <td>How Long Will It Take For My Startup To Be Suc...</td>\n",
       "    </tr>\n",
       "    <tr>\n",
       "      <th>770</th>\n",
       "      <td></td>\n",
       "      <td>what do i do now? the startup lifecycle</td>\n",
       "      <td>Startups &amp; Business</td>\n",
       "      <td></td>\n",
       "      <td>What Do I Do Now? The Startup Lifecycle</td>\n",
       "    </tr>\n",
       "    <tr>\n",
       "      <th>...</th>\n",
       "      <td>...</td>\n",
       "      <td>...</td>\n",
       "      <td>...</td>\n",
       "      <td>...</td>\n",
       "      <td>...</td>\n",
       "    </tr>\n",
       "    <tr>\n",
       "      <th>1265</th>\n",
       "      <td>why 2017 should be a great year to raise ventu...</td>\n",
       "      <td>why 2017 should be a great year to raise ventu...</td>\n",
       "      <td>Startups &amp; Business</td>\n",
       "      <td>Why 2017 Should be a Great Year to Raise Ventu...</td>\n",
       "      <td>Why 2017 Should be a Great Year to Raise Ventu...</td>\n",
       "    </tr>\n",
       "    <tr>\n",
       "      <th>114</th>\n",
       "      <td>written by weronika łabaj on april 07, 2016 · ...</td>\n",
       "      <td>confession: i don't think uber is actually a g...</td>\n",
       "      <td>Startups &amp; Business</td>\n",
       "      <td>Written by Weronika Łabaj on April 07, 2016 · ...</td>\n",
       "      <td>Confession: I Don't Think Uber is Actually a G...</td>\n",
       "    </tr>\n",
       "    <tr>\n",
       "      <th>1438</th>\n",
       "      <td>written by weronika łabaj on april 07, 2016 · ...</td>\n",
       "      <td>five lessons from scaling pinterest</td>\n",
       "      <td>Startups &amp; Business</td>\n",
       "      <td>Written by Weronika Łabaj on April 07, 2016 · ...</td>\n",
       "      <td>Five Lessons from Scaling Pinterest</td>\n",
       "    </tr>\n",
       "    <tr>\n",
       "      <th>1790</th>\n",
       "      <td>“we were able to email 10 of our customer advi...</td>\n",
       "      <td>start up on the right foot — build a customer ...</td>\n",
       "      <td>Startups &amp; Business</td>\n",
       "      <td>“We were able to email 10 of our customer advi...</td>\n",
       "      <td>Start Up on the Right Foot — Build a Customer ...</td>\n",
       "    </tr>\n",
       "    <tr>\n",
       "      <th>1812</th>\n",
       "      <td>“we were able to email 10 of our customer advi...</td>\n",
       "      <td>start up on the right foot - build a customer ...</td>\n",
       "      <td>Product &amp; Design</td>\n",
       "      <td>“We were able to email 10 of our customer advi...</td>\n",
       "      <td>Start Up on the Right Foot - Build a Customer ...</td>\n",
       "    </tr>\n",
       "  </tbody>\n",
       "</table>\n",
       "<p>152 rows × 5 columns</p>\n",
       "</div>"
      ],
      "text/plain": [
       "                                                   body  \\\n",
       "1878                                                      \n",
       "695                                                       \n",
       "1947                                                      \n",
       "744                                                       \n",
       "770                                                       \n",
       "...                                                 ...   \n",
       "1265  why 2017 should be a great year to raise ventu...   \n",
       "114   written by weronika łabaj on april 07, 2016 · ...   \n",
       "1438  written by weronika łabaj on april 07, 2016 · ...   \n",
       "1790  “we were able to email 10 of our customer advi...   \n",
       "1812  “we were able to email 10 of our customer advi...   \n",
       "\n",
       "                                                  title             category  \\\n",
       "1878       practical marketing tips for saas businesses  Startups & Business   \n",
       "695   introducing ohana, uber engineering’s ios cont...          Engineering   \n",
       "1947   what most billion-dollar startups have in common  Startups & Business   \n",
       "744   how long will it take for my startup to be suc...  Startups & Business   \n",
       "770             what do i do now? the startup lifecycle  Startups & Business   \n",
       "...                                                 ...                  ...   \n",
       "1265  why 2017 should be a great year to raise ventu...  Startups & Business   \n",
       "114   confession: i don't think uber is actually a g...  Startups & Business   \n",
       "1438                five lessons from scaling pinterest  Startups & Business   \n",
       "1790  start up on the right foot — build a customer ...  Startups & Business   \n",
       "1812  start up on the right foot - build a customer ...     Product & Design   \n",
       "\n",
       "                                               body_org  \\\n",
       "1878                                                      \n",
       "695                                                       \n",
       "1947                                                      \n",
       "744                                                       \n",
       "770                                                       \n",
       "...                                                 ...   \n",
       "1265  Why 2017 Should be a Great Year to Raise Ventu...   \n",
       "114   Written by Weronika Łabaj on April 07, 2016 · ...   \n",
       "1438  Written by Weronika Łabaj on April 07, 2016 · ...   \n",
       "1790  “We were able to email 10 of our customer advi...   \n",
       "1812  “We were able to email 10 of our customer advi...   \n",
       "\n",
       "                                              title_org  \n",
       "1878       Practical Marketing Tips for SAAS Businesses  \n",
       "695   Introducing Ohana, Uber Engineering’s iOS Cont...  \n",
       "1947   What Most Billion-Dollar Startups Have in Common  \n",
       "744   How Long Will It Take For My Startup To Be Suc...  \n",
       "770             What Do I Do Now? The Startup Lifecycle  \n",
       "...                                                 ...  \n",
       "1265  Why 2017 Should be a Great Year to Raise Ventu...  \n",
       "114   Confession: I Don't Think Uber is Actually a G...  \n",
       "1438                Five Lessons from Scaling Pinterest  \n",
       "1790  Start Up on the Right Foot — Build a Customer ...  \n",
       "1812  Start Up on the Right Foot - Build a Customer ...  \n",
       "\n",
       "[152 rows x 5 columns]"
      ]
     },
     "execution_count": 7,
     "metadata": {},
     "output_type": "execute_result"
    }
   ],
   "source": [
    "df[df.duplicated(subset=['body'],keep=False)].sort_values(by=\"body\")"
   ]
  },
  {
   "cell_type": "markdown",
   "metadata": {},
   "source": [
    "We notice that there are some empty body and also rows with indeces 1790 and 1812 have similar name but one have extra dash.\n",
    "I'll remove nonalphanumericals and check the word count."
   ]
  },
  {
   "cell_type": "code",
   "execution_count": 8,
   "metadata": {},
   "outputs": [],
   "source": [
    "def keep_alphanum(body):\n",
    "  reviews = ''\n",
    "  for x in body:\n",
    "    if x.isalnum():\n",
    "      reviews = reviews + x\n",
    "    else:\n",
    "      reviews = reviews + ' '\n",
    "  return reviews\n",
    "\n",
    "df['body'] = df['body'].apply(keep_alphanum)\n",
    "df['title'] = df['title'].apply(keep_alphanum)"
   ]
  },
  {
   "cell_type": "code",
   "execution_count": 9,
   "metadata": {},
   "outputs": [
    {
     "name": "stdout",
     "output_type": "stream",
     "text": [
      "37\n",
      "101\n"
     ]
    }
   ],
   "source": [
    "print(df.duplicated(subset=['title']).sum())\n",
    "print(df.duplicated(subset=['body']).sum())"
   ]
  },
  {
   "cell_type": "markdown",
   "metadata": {},
   "source": [
    "we notice that duplicates in title went from 29 to 37 as noted previously."
   ]
  },
  {
   "cell_type": "code",
   "execution_count": 10,
   "metadata": {},
   "outputs": [],
   "source": [
    "#getting count of words in body\n",
    "df[\"words\"] = df['body'].str.split().str.len()"
   ]
  },
  {
   "cell_type": "code",
   "execution_count": 11,
   "metadata": {},
   "outputs": [
    {
     "data": {
      "text/plain": [
       "49"
      ]
     },
     "execution_count": 11,
     "metadata": {},
     "output_type": "execute_result"
    }
   ],
   "source": [
    "len(df[df.words == 0])"
   ]
  },
  {
   "cell_type": "markdown",
   "metadata": {},
   "source": [
    "There are 49 rows with no text in body"
   ]
  },
  {
   "cell_type": "code",
   "execution_count": 12,
   "metadata": {},
   "outputs": [],
   "source": [
    "df.drop_duplicates(subset=[\"body\"], inplace=True)"
   ]
  },
  {
   "cell_type": "code",
   "execution_count": 13,
   "metadata": {},
   "outputs": [
    {
     "data": {
      "text/html": [
       "<div>\n",
       "<style scoped>\n",
       "    .dataframe tbody tr th:only-of-type {\n",
       "        vertical-align: middle;\n",
       "    }\n",
       "\n",
       "    .dataframe tbody tr th {\n",
       "        vertical-align: top;\n",
       "    }\n",
       "\n",
       "    .dataframe thead th {\n",
       "        text-align: right;\n",
       "    }\n",
       "</style>\n",
       "<table border=\"1\" class=\"dataframe\">\n",
       "  <thead>\n",
       "    <tr style=\"text-align: right;\">\n",
       "      <th></th>\n",
       "      <th>words</th>\n",
       "    </tr>\n",
       "  </thead>\n",
       "  <tbody>\n",
       "    <tr>\n",
       "      <th>count</th>\n",
       "      <td>2380.000000</td>\n",
       "    </tr>\n",
       "    <tr>\n",
       "      <th>mean</th>\n",
       "      <td>1692.239916</td>\n",
       "    </tr>\n",
       "    <tr>\n",
       "      <th>std</th>\n",
       "      <td>1492.752693</td>\n",
       "    </tr>\n",
       "    <tr>\n",
       "      <th>min</th>\n",
       "      <td>0.000000</td>\n",
       "    </tr>\n",
       "    <tr>\n",
       "      <th>1%</th>\n",
       "      <td>44.000000</td>\n",
       "    </tr>\n",
       "    <tr>\n",
       "      <th>5%</th>\n",
       "      <td>230.950000</td>\n",
       "    </tr>\n",
       "    <tr>\n",
       "      <th>25%</th>\n",
       "      <td>780.750000</td>\n",
       "    </tr>\n",
       "    <tr>\n",
       "      <th>50%</th>\n",
       "      <td>1311.000000</td>\n",
       "    </tr>\n",
       "    <tr>\n",
       "      <th>75%</th>\n",
       "      <td>2089.750000</td>\n",
       "    </tr>\n",
       "    <tr>\n",
       "      <th>95%</th>\n",
       "      <td>4268.000000</td>\n",
       "    </tr>\n",
       "    <tr>\n",
       "      <th>99%</th>\n",
       "      <td>7389.000000</td>\n",
       "    </tr>\n",
       "    <tr>\n",
       "      <th>max</th>\n",
       "      <td>16811.000000</td>\n",
       "    </tr>\n",
       "  </tbody>\n",
       "</table>\n",
       "</div>"
      ],
      "text/plain": [
       "              words\n",
       "count   2380.000000\n",
       "mean    1692.239916\n",
       "std     1492.752693\n",
       "min        0.000000\n",
       "1%        44.000000\n",
       "5%       230.950000\n",
       "25%      780.750000\n",
       "50%     1311.000000\n",
       "75%     2089.750000\n",
       "95%     4268.000000\n",
       "99%     7389.000000\n",
       "max    16811.000000"
      ]
     },
     "execution_count": 13,
     "metadata": {},
     "output_type": "execute_result"
    }
   ],
   "source": [
    "df.describe(percentiles=[.01,.05,.25, .5, .75,.95,.99])"
   ]
  },
  {
   "cell_type": "markdown",
   "metadata": {},
   "source": [
    "we notice that most articles have between 230 and 4270 words.\n",
    "lets explore the ones that have less than 100"
   ]
  },
  {
   "cell_type": "code",
   "execution_count": 14,
   "metadata": {},
   "outputs": [
    {
     "data": {
      "text/html": [
       "<div>\n",
       "<style scoped>\n",
       "    .dataframe tbody tr th:only-of-type {\n",
       "        vertical-align: middle;\n",
       "    }\n",
       "\n",
       "    .dataframe tbody tr th {\n",
       "        vertical-align: top;\n",
       "    }\n",
       "\n",
       "    .dataframe thead th {\n",
       "        text-align: right;\n",
       "    }\n",
       "</style>\n",
       "<table border=\"1\" class=\"dataframe\">\n",
       "  <thead>\n",
       "    <tr style=\"text-align: right;\">\n",
       "      <th></th>\n",
       "      <th>body</th>\n",
       "      <th>title</th>\n",
       "      <th>category</th>\n",
       "      <th>body_org</th>\n",
       "      <th>title_org</th>\n",
       "      <th>words</th>\n",
       "    </tr>\n",
       "  </thead>\n",
       "  <tbody>\n",
       "    <tr>\n",
       "      <th>83</th>\n",
       "      <td>self contained systems assembling software fro...</td>\n",
       "      <td>scs  self contained systems</td>\n",
       "      <td>Engineering</td>\n",
       "      <td>Self-Contained Systems Assembling Software fro...</td>\n",
       "      <td>SCS: Self-Contained Systems</td>\n",
       "      <td>97</td>\n",
       "    </tr>\n",
       "    <tr>\n",
       "      <th>1389</th>\n",
       "      <td>the founder institute hosts webinars every mon...</td>\n",
       "      <td>the most common misconception among early stag...</td>\n",
       "      <td>Startups &amp; Business</td>\n",
       "      <td>The Founder Institute hosts webinars every mon...</td>\n",
       "      <td>The Most Common Misconception Among Early-Stag...</td>\n",
       "      <td>96</td>\n",
       "    </tr>\n",
       "    <tr>\n",
       "      <th>1297</th>\n",
       "      <td>probabilistic modelling provides a mathematica...</td>\n",
       "      <td>strachey lecture   probabilistic machine learn...</td>\n",
       "      <td>Engineering</td>\n",
       "      <td>Probabilistic modelling provides a mathematica...</td>\n",
       "      <td>Strachey Lecture - Probabilistic machine learn...</td>\n",
       "      <td>95</td>\n",
       "    </tr>\n",
       "    <tr>\n",
       "      <th>541</th>\n",
       "      <td>published on oct 25  2011  speaker s   profess...</td>\n",
       "      <td>good strategy bad strategy  the difference and...</td>\n",
       "      <td>Startups &amp; Business</td>\n",
       "      <td>Published on Oct 25, 2011\\n\\nSpeaker(s): Profe...</td>\n",
       "      <td>Good Strategy/Bad Strategy: the difference and...</td>\n",
       "      <td>94</td>\n",
       "    </tr>\n",
       "    <tr>\n",
       "      <th>562</th>\n",
       "      <td>over the last 3 years  i ve worked as a ux des...</td>\n",
       "      <td>50 things i learned from spending 3 years as a...</td>\n",
       "      <td>Product &amp; Design</td>\n",
       "      <td>Over the last 3 years, I’ve worked as a UX des...</td>\n",
       "      <td>50 things I learned from spending 3 years as a...</td>\n",
       "      <td>91</td>\n",
       "    </tr>\n",
       "    <tr>\n",
       "      <th>1320</th>\n",
       "      <td>there is no  one right way  to build a company...</td>\n",
       "      <td>can you launch a company with passion alone</td>\n",
       "      <td>Startups &amp; Business</td>\n",
       "      <td>There is no \"one right way\" to build a company...</td>\n",
       "      <td>Can You Launch a Company With Passion Alone?</td>\n",
       "      <td>89</td>\n",
       "    </tr>\n",
       "    <tr>\n",
       "      <th>324</th>\n",
       "      <td>تم نشره في 08  08  2016  this presentation was...</td>\n",
       "      <td>goto 2016   from monolith to microservices at ...</td>\n",
       "      <td>Engineering</td>\n",
       "      <td>تم نشره في 08‏/08‏/2016\\n\\nThis presentation w...</td>\n",
       "      <td>GOTO 2016 • From Monolith to Microservices at ...</td>\n",
       "      <td>88</td>\n",
       "    </tr>\n",
       "    <tr>\n",
       "      <th>987</th>\n",
       "      <td>please click  i am not a robot  to continue  a...</td>\n",
       "      <td>apply this simple thought exercise before crea...</td>\n",
       "      <td>Startups &amp; Business</td>\n",
       "      <td>Please click \"I am not a robot\" to continue\\n\\...</td>\n",
       "      <td>Apply This Simple Thought Exercise Before Crea...</td>\n",
       "      <td>83</td>\n",
       "    </tr>\n",
       "    <tr>\n",
       "      <th>423</th>\n",
       "      <td>please click  i am not a robot  to continue   ...</td>\n",
       "      <td>how one startup focused on the long tail to dr...</td>\n",
       "      <td>Startups &amp; Business</td>\n",
       "      <td>Please click \"I am not a robot\" to continue\\r\\...</td>\n",
       "      <td>How One Startup Focused On The Long Tail To Dr...</td>\n",
       "      <td>83</td>\n",
       "    </tr>\n",
       "    <tr>\n",
       "      <th>1701</th>\n",
       "      <td>please click  i am not a robot  to continue  a...</td>\n",
       "      <td>everything you ve ever wanted to know about vc...</td>\n",
       "      <td>Startups &amp; Business</td>\n",
       "      <td>Please click \"I am not a robot\" to continue\\n\\...</td>\n",
       "      <td>Everything You've Ever Wanted To Know About VC...</td>\n",
       "      <td>83</td>\n",
       "    </tr>\n",
       "    <tr>\n",
       "      <th>1684</th>\n",
       "      <td>please click  i am not a robot  to continue  a...</td>\n",
       "      <td>putting it all together   how josh elman ident...</td>\n",
       "      <td>Product &amp; Design</td>\n",
       "      <td>Please click \"I am not a robot\" to continue\\n\\...</td>\n",
       "      <td>Putting It All Together - How Josh Elman Ident...</td>\n",
       "      <td>83</td>\n",
       "    </tr>\n",
       "    <tr>\n",
       "      <th>1646</th>\n",
       "      <td>please click  i am not a robot  to continue  a...</td>\n",
       "      <td>how an ancient chinese war general would run y...</td>\n",
       "      <td>Startups &amp; Business</td>\n",
       "      <td>Please click \"I am not a robot\" to continue\\n\\...</td>\n",
       "      <td>How An Ancient Chinese War General Would Run Y...</td>\n",
       "      <td>83</td>\n",
       "    </tr>\n",
       "    <tr>\n",
       "      <th>1409</th>\n",
       "      <td>please click  i am not a robot  to continue   ...</td>\n",
       "      <td>does a product manager at a high growth techno...</td>\n",
       "      <td>Startups &amp; Business</td>\n",
       "      <td>Please click \"I am not a robot\" to continue\\r\\...</td>\n",
       "      <td>Does a Product Manager at a High Growth Techno...</td>\n",
       "      <td>83</td>\n",
       "    </tr>\n",
       "    <tr>\n",
       "      <th>1010</th>\n",
       "      <td>please click  i am not a robot  to continue   ...</td>\n",
       "      <td>a product led approach to sales</td>\n",
       "      <td>Startups &amp; Business</td>\n",
       "      <td>Please click \"I am not a robot\" to continue\\r\\...</td>\n",
       "      <td>A Product-led Approach to Sales</td>\n",
       "      <td>83</td>\n",
       "    </tr>\n",
       "    <tr>\n",
       "      <th>776</th>\n",
       "      <td>in our first designtalk of 2017  hayley hughes...</td>\n",
       "      <td>creating design driven data visualization</td>\n",
       "      <td>Product &amp; Design</td>\n",
       "      <td>In our first DesignTalk of 2017, Hayley Hughes...</td>\n",
       "      <td>Creating design-driven data visualization</td>\n",
       "      <td>83</td>\n",
       "    </tr>\n",
       "    <tr>\n",
       "      <th>2204</th>\n",
       "      <td>please click  i am not a robot  to continue   ...</td>\n",
       "      <td>sales operations  how to enable your team with...</td>\n",
       "      <td>Startups &amp; Business</td>\n",
       "      <td>Please click \"I am not a robot\" to continue\\r\\...</td>\n",
       "      <td>Sales Operations: How to enable your team with...</td>\n",
       "      <td>83</td>\n",
       "    </tr>\n",
       "    <tr>\n",
       "      <th>1209</th>\n",
       "      <td>published on jun 2  2016  the rest of us on pa...</td>\n",
       "      <td>startup funding explained  everything you need...</td>\n",
       "      <td>Startups &amp; Business</td>\n",
       "      <td>Published on Jun 2, 2016\\n\\nThe Rest Of Us on ...</td>\n",
       "      <td>Startup Funding Explained: Everything You Need...</td>\n",
       "      <td>82</td>\n",
       "    </tr>\n",
       "    <tr>\n",
       "      <th>1713</th>\n",
       "      <td>securing the homeland  part i  why we re all h...</td>\n",
       "      <td>the firewall  cybersecurity for beginners   da...</td>\n",
       "      <td>Engineering</td>\n",
       "      <td>Securing The Homeland\\n\\nPart I: Why We’re All...</td>\n",
       "      <td>THE FIREWALL: Cybersecurity For Beginners – Da...</td>\n",
       "      <td>81</td>\n",
       "    </tr>\n",
       "    <tr>\n",
       "      <th>1327</th>\n",
       "      <td>whether you re just designing for fun  improvi...</td>\n",
       "      <td>15 gorgeous website redesign concepts</td>\n",
       "      <td>Product &amp; Design</td>\n",
       "      <td>Whether you’re just designing for fun, improvi...</td>\n",
       "      <td>15 gorgeous website redesign concepts</td>\n",
       "      <td>76</td>\n",
       "    </tr>\n",
       "    <tr>\n",
       "      <th>344</th>\n",
       "      <td>published on nov 24  2011  iese prof  marta el...</td>\n",
       "      <td>patrick lencioni   the four traits of healthy ...</td>\n",
       "      <td>Startups &amp; Business</td>\n",
       "      <td>Published on Nov 24, 2011\\n\\nIESE Prof. Marta ...</td>\n",
       "      <td>Patrick Lencioni : The Four Traits of Healthy ...</td>\n",
       "      <td>73</td>\n",
       "    </tr>\n",
       "    <tr>\n",
       "      <th>1999</th>\n",
       "      <td>explore the data  is your churn rate within a ...</td>\n",
       "      <td>subscription churn rate industry benchmarks</td>\n",
       "      <td>Startups &amp; Business</td>\n",
       "      <td>Explore the data\\n\\nIs your churn rate within ...</td>\n",
       "      <td>Subscription Churn Rate Industry Benchmarks</td>\n",
       "      <td>72</td>\n",
       "    </tr>\n",
       "    <tr>\n",
       "      <th>504</th>\n",
       "      <td>julie zhuo  vice president of product design a...</td>\n",
       "      <td>julie zhuo  how a facebook designer thinks  en...</td>\n",
       "      <td>Product &amp; Design</td>\n",
       "      <td>Julie Zhuo, vice president of product design a...</td>\n",
       "      <td>Julie Zhuo: How a Facebook Designer Thinks [En...</td>\n",
       "      <td>70</td>\n",
       "    </tr>\n",
       "    <tr>\n",
       "      <th>286</th>\n",
       "      <td>we couldn t find the page you were looking for...</td>\n",
       "      <td>work bench blog   why kubernetes is foundation...</td>\n",
       "      <td>Engineering</td>\n",
       "      <td>We couldn't find the page you were looking for...</td>\n",
       "      <td>Work-Bench Blog - Why Kubernetes is Foundation...</td>\n",
       "      <td>67</td>\n",
       "    </tr>\n",
       "    <tr>\n",
       "      <th>2017</th>\n",
       "      <td>solr vs  elasticsearch  elasticsearch vs  solr...</td>\n",
       "      <td>top 15 solr vs  elasticsearch differences</td>\n",
       "      <td>Engineering</td>\n",
       "      <td>Solr vs. Elasticsearch. Elasticsearch vs. Solr...</td>\n",
       "      <td>Top 15 Solr vs. Elasticsearch Differences</td>\n",
       "      <td>64</td>\n",
       "    </tr>\n",
       "    <tr>\n",
       "      <th>585</th>\n",
       "      <td>published on dec 25  2016  during startup scho...</td>\n",
       "      <td>pitch practice with paul buchheit and sam altm...</td>\n",
       "      <td>Startups &amp; Business</td>\n",
       "      <td>Published on Dec 25, 2016\\n\\nDuring Startup Sc...</td>\n",
       "      <td>Pitch Practice with Paul Buchheit and Sam Altm...</td>\n",
       "      <td>63</td>\n",
       "    </tr>\n",
       "    <tr>\n",
       "      <th>1479</th>\n",
       "      <td>the web server is not returning a connection  ...</td>\n",
       "      <td>strange loop   ip spoofing</td>\n",
       "      <td>Engineering</td>\n",
       "      <td>The web server is not returning a connection. ...</td>\n",
       "      <td>Strange Loop - IP Spoofing</td>\n",
       "      <td>60</td>\n",
       "    </tr>\n",
       "    <tr>\n",
       "      <th>1025</th>\n",
       "      <td>i gave a presentation this afternoon to my har...</td>\n",
       "      <td>how to raise your first round of capital</td>\n",
       "      <td>Startups &amp; Business</td>\n",
       "      <td>I gave a presentation this afternoon to my Har...</td>\n",
       "      <td>How To Raise Your First Round of Capital</td>\n",
       "      <td>58</td>\n",
       "    </tr>\n",
       "    <tr>\n",
       "      <th>1508</th>\n",
       "      <td>published on apr 5  2017  sam altman  presiden...</td>\n",
       "      <td>how and why to start a startup   sam altman  a...</td>\n",
       "      <td>Startups &amp; Business</td>\n",
       "      <td>Published on Apr 5, 2017\\n\\nSam Altman, Presid...</td>\n",
       "      <td>How and Why to Start A Startup - Sam Altman &amp;a...</td>\n",
       "      <td>56</td>\n",
       "    </tr>\n",
       "    <tr>\n",
       "      <th>93</th>\n",
       "      <td>26 topline marketing strategies to launch a ne...</td>\n",
       "      <td>26 product launch strategies</td>\n",
       "      <td>Product &amp; Design</td>\n",
       "      <td>26 topline marketing strategies to launch a ne...</td>\n",
       "      <td>26 Product Launch Strategies</td>\n",
       "      <td>47</td>\n",
       "    </tr>\n",
       "    <tr>\n",
       "      <th>530</th>\n",
       "      <td>as we pass 2 5bn smartphones on earth and head...</td>\n",
       "      <td>mobile is eating the world</td>\n",
       "      <td>Startups &amp; Business</td>\n",
       "      <td>As we pass 2.5bn smartphones on earth and head...</td>\n",
       "      <td>Mobile is eating the world</td>\n",
       "      <td>46</td>\n",
       "    </tr>\n",
       "    <tr>\n",
       "      <th>326</th>\n",
       "      <td>تم نشره في 11  08  2016  jack franklin  04 08 ...</td>\n",
       "      <td>the state of javascript   jack franklin   augu...</td>\n",
       "      <td>Engineering</td>\n",
       "      <td>تم نشره في 11‏/08‏/2016\\n\\nJack Franklin (04/0...</td>\n",
       "      <td>The State of Javascript - Jack Franklin | Augu...</td>\n",
       "      <td>44</td>\n",
       "    </tr>\n",
       "    <tr>\n",
       "      <th>1766</th>\n",
       "      <td>thanks for reading   if you enjoyed it  how ab...</td>\n",
       "      <td>how united onboards new users</td>\n",
       "      <td>Product &amp; Design</td>\n",
       "      <td>Thanks for reading!\\n\\nIf you enjoyed it, how ...</td>\n",
       "      <td>How United Onboards New Users</td>\n",
       "      <td>44</td>\n",
       "    </tr>\n",
       "    <tr>\n",
       "      <th>538</th>\n",
       "      <td>i came across this talk by jeff lawson  founde...</td>\n",
       "      <td>video of the week  jeff lawson on having convi...</td>\n",
       "      <td>Startups &amp; Business</td>\n",
       "      <td>I came across this talk by Jeff Lawson, Founde...</td>\n",
       "      <td>Video Of The Week: Jeff Lawson on Having Convi...</td>\n",
       "      <td>42</td>\n",
       "    </tr>\n",
       "    <tr>\n",
       "      <th>63</th>\n",
       "      <td>get access to all tutorials and screencasts le...</td>\n",
       "      <td>learn enough git to be dangerous    learn enou...</td>\n",
       "      <td>Engineering</td>\n",
       "      <td>Get access to all tutorials and screencasts Le...</td>\n",
       "      <td>Learn Enough Git to Be Dangerous\\n | Learn Eno...</td>\n",
       "      <td>36</td>\n",
       "    </tr>\n",
       "    <tr>\n",
       "      <th>1601</th>\n",
       "      <td>your phone personalizes the model locally  bas...</td>\n",
       "      <td>federated learning  collaborative machine lear...</td>\n",
       "      <td>Engineering</td>\n",
       "      <td>Your phone personalizes the model locally, bas...</td>\n",
       "      <td>Federated Learning: Collaborative Machine Lear...</td>\n",
       "      <td>33</td>\n",
       "    </tr>\n",
       "    <tr>\n",
       "      <th>404</th>\n",
       "      <td>first name  g like  giraffe   not g like  get ...</td>\n",
       "      <td>elm is the new rails</td>\n",
       "      <td>Engineering</td>\n",
       "      <td>First name: G like \"giraffe,\" not G like \"get....</td>\n",
       "      <td>Elm Is The New Rails</td>\n",
       "      <td>32</td>\n",
       "    </tr>\n",
       "    <tr>\n",
       "      <th>1259</th>\n",
       "      <td>this page is an activity of the lean inception...</td>\n",
       "      <td>what the product is  and isn t</td>\n",
       "      <td>Product &amp; Design</td>\n",
       "      <td>This page is an activity of The Lean Inception...</td>\n",
       "      <td>What the Product is (and isn't)</td>\n",
       "      <td>29</td>\n",
       "    </tr>\n",
       "    <tr>\n",
       "      <th>284</th>\n",
       "      <td>if you are interested in learning more about h...</td>\n",
       "      <td>from rails to phoenix</td>\n",
       "      <td>Engineering</td>\n",
       "      <td>If you are interested in learning more about h...</td>\n",
       "      <td>From Rails to Phoenix</td>\n",
       "      <td>28</td>\n",
       "    </tr>\n",
       "    <tr>\n",
       "      <th>310</th>\n",
       "      <td>hear directly from the people who know it best...</td>\n",
       "      <td>the framing effect  simple tweaks to stop losi...</td>\n",
       "      <td>Startups &amp; Business</td>\n",
       "      <td>Hear directly from the people who know it best...</td>\n",
       "      <td>The Framing Effect: Simple Tweaks to Stop Losi...</td>\n",
       "      <td>25</td>\n",
       "    </tr>\n",
       "    <tr>\n",
       "      <th>665</th>\n",
       "      <td>if you ever connected to the internet before t...</td>\n",
       "      <td>ctcss fingerprinting  a method for transmitter...</td>\n",
       "      <td>Engineering</td>\n",
       "      <td>If you ever connected to the Internet before t...</td>\n",
       "      <td>CTCSS fingerprinting: a method for transmitter...</td>\n",
       "      <td>24</td>\n",
       "    </tr>\n",
       "    <tr>\n",
       "      <th>1804</th>\n",
       "      <td>not found  the requested url  outreach html wa...</td>\n",
       "      <td>a beginner s guide to acquiring new customers ...</td>\n",
       "      <td>Startups &amp; Business</td>\n",
       "      <td>Not Found\\n\\nThe requested URL /outreach.html ...</td>\n",
       "      <td>A beginner's guide to acquiring new customers ...</td>\n",
       "      <td>23</td>\n",
       "    </tr>\n",
       "    <tr>\n",
       "      <th>283</th>\n",
       "      <td>get back on track     did you get lost  perhap...</td>\n",
       "      <td>introduction to kubernetes architecture</td>\n",
       "      <td>Engineering</td>\n",
       "      <td>Get back on track...\\n\\nDid you get lost? Perh...</td>\n",
       "      <td>Introduction to Kubernetes Architecture</td>\n",
       "      <td>23</td>\n",
       "    </tr>\n",
       "    <tr>\n",
       "      <th>1493</th>\n",
       "      <td>the developerworks site is offline for a bit  ...</td>\n",
       "      <td>11 proven practices for more effective  effici...</td>\n",
       "      <td>Engineering</td>\n",
       "      <td>The developerWorks site is offline for a bit. ...</td>\n",
       "      <td>11 proven practices for more effective, effici...</td>\n",
       "      <td>23</td>\n",
       "    </tr>\n",
       "    <tr>\n",
       "      <th>206</th>\n",
       "      <td>one clap  two clap  three clap  forty     by c...</td>\n",
       "      <td>the broken window theory in product design</td>\n",
       "      <td>Product &amp; Design</td>\n",
       "      <td>One clap, two clap, three clap, forty?\\r\\n\\r\\n...</td>\n",
       "      <td>The Broken Window Theory In Product Design</td>\n",
       "      <td>22</td>\n",
       "    </tr>\n",
       "    <tr>\n",
       "      <th>551</th>\n",
       "      <td>one clap  two clap  three clap  forty   by cla...</td>\n",
       "      <td>50 things i ve learned about product management</td>\n",
       "      <td>Product &amp; Design</td>\n",
       "      <td>One clap, two clap, three clap, forty?\\n\\nBy c...</td>\n",
       "      <td>50 Things I've Learned About Product Management</td>\n",
       "      <td>22</td>\n",
       "    </tr>\n",
       "    <tr>\n",
       "      <th>1845</th>\n",
       "      <td>our googlenet architecture  design of this net...</td>\n",
       "      <td>using machine learning to explore neural netwo...</td>\n",
       "      <td>Engineering</td>\n",
       "      <td>Our GoogleNet architecture. Design of this net...</td>\n",
       "      <td>Using Machine Learning to Explore Neural Netwo...</td>\n",
       "      <td>21</td>\n",
       "    </tr>\n",
       "    <tr>\n",
       "      <th>1540</th>\n",
       "      <td>sorry  that page doesn t exist   you can searc...</td>\n",
       "      <td>optimizing twitter heron</td>\n",
       "      <td>Engineering</td>\n",
       "      <td>Sorry, that page doesn’t exist!\\n\\nYou can sea...</td>\n",
       "      <td>Optimizing Twitter Heron</td>\n",
       "      <td>20</td>\n",
       "    </tr>\n",
       "    <tr>\n",
       "      <th>1854</th>\n",
       "      <td>ooops    error 404  sorry  but the page you ar...</td>\n",
       "      <td>5 steps to successful purpose driven pr</td>\n",
       "      <td>Startups &amp; Business</td>\n",
       "      <td>Ooops... Error 404\\n\\nSorry, but the page you ...</td>\n",
       "      <td>5 Steps To Successful Purpose-Driven PR</td>\n",
       "      <td>20</td>\n",
       "    </tr>\n",
       "    <tr>\n",
       "      <th>1435</th>\n",
       "      <td>javascript is currently disabled in your brows...</td>\n",
       "      <td>how technical should product managers be</td>\n",
       "      <td>Product &amp; Design</td>\n",
       "      <td>JavaScript is currently disabled in your brows...</td>\n",
       "      <td>How technical should product managers be?</td>\n",
       "      <td>18</td>\n",
       "    </tr>\n",
       "    <tr>\n",
       "      <th>1934</th>\n",
       "      <td>kubernetes is an open source system for automa...</td>\n",
       "      <td>managing microservices with the istio service ...</td>\n",
       "      <td>Engineering</td>\n",
       "      <td>Kubernetes is an open source system for automa...</td>\n",
       "      <td>Managing microservices with the Istio service ...</td>\n",
       "      <td>15</td>\n",
       "    </tr>\n",
       "    <tr>\n",
       "      <th>523</th>\n",
       "      <td>log in  join us  designer news is where the de...</td>\n",
       "      <td>the future of design in startups 2016 survey r...</td>\n",
       "      <td>Product &amp; Design</td>\n",
       "      <td>Log in\\n\\nJoin Us\\n\\nDesigner News is where th...</td>\n",
       "      <td>The Future of Design in Startups 2016 Survey R...</td>\n",
       "      <td>12</td>\n",
       "    </tr>\n",
       "    <tr>\n",
       "      <th>514</th>\n",
       "      <td>my name is sachin rekhi and i m founder   ceo ...</td>\n",
       "      <td>how do you know if you ve achieved product mar...</td>\n",
       "      <td>Product &amp; Design</td>\n",
       "      <td>My name is Sachin Rekhi and I'm Founder &amp; CEO ...</td>\n",
       "      <td>How Do You Know If You've Achieved Product/Mar...</td>\n",
       "      <td>11</td>\n",
       "    </tr>\n",
       "    <tr>\n",
       "      <th>54</th>\n",
       "      <td>you re viewing youtube in  you can change this...</td>\n",
       "      <td>jessica livingston   how to build the future</td>\n",
       "      <td>Startups &amp; Business</td>\n",
       "      <td>You're viewing YouTube in. You can change this...</td>\n",
       "      <td>Jessica Livingston : How to Build the Future</td>\n",
       "      <td>11</td>\n",
       "    </tr>\n",
       "    <tr>\n",
       "      <th>109</th>\n",
       "      <td></td>\n",
       "      <td>neural networks demystified   lumiverse</td>\n",
       "      <td>Engineering</td>\n",
       "      <td></td>\n",
       "      <td>Neural Networks Demystified - lumiverse</td>\n",
       "      <td>0</td>\n",
       "    </tr>\n",
       "    <tr>\n",
       "      <th>31</th>\n",
       "      <td></td>\n",
       "      <td>the new  must haves  for mobile apps to succee...</td>\n",
       "      <td>Startups &amp; Business</td>\n",
       "      <td></td>\n",
       "      <td>The New 'Must Haves' for Mobile Apps to Succee...</td>\n",
       "      <td>0</td>\n",
       "    </tr>\n",
       "  </tbody>\n",
       "</table>\n",
       "</div>"
      ],
      "text/plain": [
       "                                                   body  \\\n",
       "83    self contained systems assembling software fro...   \n",
       "1389  the founder institute hosts webinars every mon...   \n",
       "1297  probabilistic modelling provides a mathematica...   \n",
       "541   published on oct 25  2011  speaker s   profess...   \n",
       "562   over the last 3 years  i ve worked as a ux des...   \n",
       "1320  there is no  one right way  to build a company...   \n",
       "324   تم نشره في 08  08  2016  this presentation was...   \n",
       "987   please click  i am not a robot  to continue  a...   \n",
       "423   please click  i am not a robot  to continue   ...   \n",
       "1701  please click  i am not a robot  to continue  a...   \n",
       "1684  please click  i am not a robot  to continue  a...   \n",
       "1646  please click  i am not a robot  to continue  a...   \n",
       "1409  please click  i am not a robot  to continue   ...   \n",
       "1010  please click  i am not a robot  to continue   ...   \n",
       "776   in our first designtalk of 2017  hayley hughes...   \n",
       "2204  please click  i am not a robot  to continue   ...   \n",
       "1209  published on jun 2  2016  the rest of us on pa...   \n",
       "1713  securing the homeland  part i  why we re all h...   \n",
       "1327  whether you re just designing for fun  improvi...   \n",
       "344   published on nov 24  2011  iese prof  marta el...   \n",
       "1999  explore the data  is your churn rate within a ...   \n",
       "504   julie zhuo  vice president of product design a...   \n",
       "286   we couldn t find the page you were looking for...   \n",
       "2017  solr vs  elasticsearch  elasticsearch vs  solr...   \n",
       "585   published on dec 25  2016  during startup scho...   \n",
       "1479  the web server is not returning a connection  ...   \n",
       "1025  i gave a presentation this afternoon to my har...   \n",
       "1508  published on apr 5  2017  sam altman  presiden...   \n",
       "93    26 topline marketing strategies to launch a ne...   \n",
       "530   as we pass 2 5bn smartphones on earth and head...   \n",
       "326   تم نشره في 11  08  2016  jack franklin  04 08 ...   \n",
       "1766  thanks for reading   if you enjoyed it  how ab...   \n",
       "538   i came across this talk by jeff lawson  founde...   \n",
       "63    get access to all tutorials and screencasts le...   \n",
       "1601  your phone personalizes the model locally  bas...   \n",
       "404   first name  g like  giraffe   not g like  get ...   \n",
       "1259  this page is an activity of the lean inception...   \n",
       "284   if you are interested in learning more about h...   \n",
       "310   hear directly from the people who know it best...   \n",
       "665   if you ever connected to the internet before t...   \n",
       "1804  not found  the requested url  outreach html wa...   \n",
       "283   get back on track     did you get lost  perhap...   \n",
       "1493  the developerworks site is offline for a bit  ...   \n",
       "206   one clap  two clap  three clap  forty     by c...   \n",
       "551   one clap  two clap  three clap  forty   by cla...   \n",
       "1845  our googlenet architecture  design of this net...   \n",
       "1540  sorry  that page doesn t exist   you can searc...   \n",
       "1854  ooops    error 404  sorry  but the page you ar...   \n",
       "1435  javascript is currently disabled in your brows...   \n",
       "1934  kubernetes is an open source system for automa...   \n",
       "523   log in  join us  designer news is where the de...   \n",
       "514   my name is sachin rekhi and i m founder   ceo ...   \n",
       "54    you re viewing youtube in  you can change this...   \n",
       "109                                                       \n",
       "31                                                        \n",
       "\n",
       "                                                  title             category  \\\n",
       "83                          scs  self contained systems          Engineering   \n",
       "1389  the most common misconception among early stag...  Startups & Business   \n",
       "1297  strachey lecture   probabilistic machine learn...          Engineering   \n",
       "541   good strategy bad strategy  the difference and...  Startups & Business   \n",
       "562   50 things i learned from spending 3 years as a...     Product & Design   \n",
       "1320       can you launch a company with passion alone   Startups & Business   \n",
       "324   goto 2016   from monolith to microservices at ...          Engineering   \n",
       "987   apply this simple thought exercise before crea...  Startups & Business   \n",
       "423   how one startup focused on the long tail to dr...  Startups & Business   \n",
       "1701  everything you ve ever wanted to know about vc...  Startups & Business   \n",
       "1684  putting it all together   how josh elman ident...     Product & Design   \n",
       "1646  how an ancient chinese war general would run y...  Startups & Business   \n",
       "1409  does a product manager at a high growth techno...  Startups & Business   \n",
       "1010                    a product led approach to sales  Startups & Business   \n",
       "776           creating design driven data visualization     Product & Design   \n",
       "2204  sales operations  how to enable your team with...  Startups & Business   \n",
       "1209  startup funding explained  everything you need...  Startups & Business   \n",
       "1713  the firewall  cybersecurity for beginners   da...          Engineering   \n",
       "1327              15 gorgeous website redesign concepts     Product & Design   \n",
       "344   patrick lencioni   the four traits of healthy ...  Startups & Business   \n",
       "1999        subscription churn rate industry benchmarks  Startups & Business   \n",
       "504   julie zhuo  how a facebook designer thinks  en...     Product & Design   \n",
       "286   work bench blog   why kubernetes is foundation...          Engineering   \n",
       "2017          top 15 solr vs  elasticsearch differences          Engineering   \n",
       "585   pitch practice with paul buchheit and sam altm...  Startups & Business   \n",
       "1479                         strange loop   ip spoofing          Engineering   \n",
       "1025           how to raise your first round of capital  Startups & Business   \n",
       "1508  how and why to start a startup   sam altman  a...  Startups & Business   \n",
       "93                         26 product launch strategies     Product & Design   \n",
       "530                          mobile is eating the world  Startups & Business   \n",
       "326   the state of javascript   jack franklin   augu...          Engineering   \n",
       "1766                      how united onboards new users     Product & Design   \n",
       "538   video of the week  jeff lawson on having convi...  Startups & Business   \n",
       "63    learn enough git to be dangerous    learn enou...          Engineering   \n",
       "1601  federated learning  collaborative machine lear...          Engineering   \n",
       "404                                elm is the new rails          Engineering   \n",
       "1259                    what the product is  and isn t      Product & Design   \n",
       "284                               from rails to phoenix          Engineering   \n",
       "310   the framing effect  simple tweaks to stop losi...  Startups & Business   \n",
       "665   ctcss fingerprinting  a method for transmitter...          Engineering   \n",
       "1804  a beginner s guide to acquiring new customers ...  Startups & Business   \n",
       "283             introduction to kubernetes architecture          Engineering   \n",
       "1493  11 proven practices for more effective  effici...          Engineering   \n",
       "206          the broken window theory in product design     Product & Design   \n",
       "551     50 things i ve learned about product management     Product & Design   \n",
       "1845  using machine learning to explore neural netwo...          Engineering   \n",
       "1540                           optimizing twitter heron          Engineering   \n",
       "1854            5 steps to successful purpose driven pr  Startups & Business   \n",
       "1435          how technical should product managers be      Product & Design   \n",
       "1934  managing microservices with the istio service ...          Engineering   \n",
       "523   the future of design in startups 2016 survey r...     Product & Design   \n",
       "514   how do you know if you ve achieved product mar...     Product & Design   \n",
       "54         jessica livingston   how to build the future  Startups & Business   \n",
       "109             neural networks demystified   lumiverse          Engineering   \n",
       "31    the new  must haves  for mobile apps to succee...  Startups & Business   \n",
       "\n",
       "                                               body_org  \\\n",
       "83    Self-Contained Systems Assembling Software fro...   \n",
       "1389  The Founder Institute hosts webinars every mon...   \n",
       "1297  Probabilistic modelling provides a mathematica...   \n",
       "541   Published on Oct 25, 2011\\n\\nSpeaker(s): Profe...   \n",
       "562   Over the last 3 years, I’ve worked as a UX des...   \n",
       "1320  There is no \"one right way\" to build a company...   \n",
       "324   تم نشره في 08‏/08‏/2016\\n\\nThis presentation w...   \n",
       "987   Please click \"I am not a robot\" to continue\\n\\...   \n",
       "423   Please click \"I am not a robot\" to continue\\r\\...   \n",
       "1701  Please click \"I am not a robot\" to continue\\n\\...   \n",
       "1684  Please click \"I am not a robot\" to continue\\n\\...   \n",
       "1646  Please click \"I am not a robot\" to continue\\n\\...   \n",
       "1409  Please click \"I am not a robot\" to continue\\r\\...   \n",
       "1010  Please click \"I am not a robot\" to continue\\r\\...   \n",
       "776   In our first DesignTalk of 2017, Hayley Hughes...   \n",
       "2204  Please click \"I am not a robot\" to continue\\r\\...   \n",
       "1209  Published on Jun 2, 2016\\n\\nThe Rest Of Us on ...   \n",
       "1713  Securing The Homeland\\n\\nPart I: Why We’re All...   \n",
       "1327  Whether you’re just designing for fun, improvi...   \n",
       "344   Published on Nov 24, 2011\\n\\nIESE Prof. Marta ...   \n",
       "1999  Explore the data\\n\\nIs your churn rate within ...   \n",
       "504   Julie Zhuo, vice president of product design a...   \n",
       "286   We couldn't find the page you were looking for...   \n",
       "2017  Solr vs. Elasticsearch. Elasticsearch vs. Solr...   \n",
       "585   Published on Dec 25, 2016\\n\\nDuring Startup Sc...   \n",
       "1479  The web server is not returning a connection. ...   \n",
       "1025  I gave a presentation this afternoon to my Har...   \n",
       "1508  Published on Apr 5, 2017\\n\\nSam Altman, Presid...   \n",
       "93    26 topline marketing strategies to launch a ne...   \n",
       "530   As we pass 2.5bn smartphones on earth and head...   \n",
       "326   تم نشره في 11‏/08‏/2016\\n\\nJack Franklin (04/0...   \n",
       "1766  Thanks for reading!\\n\\nIf you enjoyed it, how ...   \n",
       "538   I came across this talk by Jeff Lawson, Founde...   \n",
       "63    Get access to all tutorials and screencasts Le...   \n",
       "1601  Your phone personalizes the model locally, bas...   \n",
       "404   First name: G like \"giraffe,\" not G like \"get....   \n",
       "1259  This page is an activity of The Lean Inception...   \n",
       "284   If you are interested in learning more about h...   \n",
       "310   Hear directly from the people who know it best...   \n",
       "665   If you ever connected to the Internet before t...   \n",
       "1804  Not Found\\n\\nThe requested URL /outreach.html ...   \n",
       "283   Get back on track...\\n\\nDid you get lost? Perh...   \n",
       "1493  The developerWorks site is offline for a bit. ...   \n",
       "206   One clap, two clap, three clap, forty?\\r\\n\\r\\n...   \n",
       "551   One clap, two clap, three clap, forty?\\n\\nBy c...   \n",
       "1845  Our GoogleNet architecture. Design of this net...   \n",
       "1540  Sorry, that page doesn’t exist!\\n\\nYou can sea...   \n",
       "1854  Ooops... Error 404\\n\\nSorry, but the page you ...   \n",
       "1435  JavaScript is currently disabled in your brows...   \n",
       "1934  Kubernetes is an open source system for automa...   \n",
       "523   Log in\\n\\nJoin Us\\n\\nDesigner News is where th...   \n",
       "514   My name is Sachin Rekhi and I'm Founder & CEO ...   \n",
       "54    You're viewing YouTube in. You can change this...   \n",
       "109                                                       \n",
       "31                                                        \n",
       "\n",
       "                                              title_org  words  \n",
       "83                          SCS: Self-Contained Systems     97  \n",
       "1389  The Most Common Misconception Among Early-Stag...     96  \n",
       "1297  Strachey Lecture - Probabilistic machine learn...     95  \n",
       "541   Good Strategy/Bad Strategy: the difference and...     94  \n",
       "562   50 things I learned from spending 3 years as a...     91  \n",
       "1320       Can You Launch a Company With Passion Alone?     89  \n",
       "324   GOTO 2016 • From Monolith to Microservices at ...     88  \n",
       "987   Apply This Simple Thought Exercise Before Crea...     83  \n",
       "423   How One Startup Focused On The Long Tail To Dr...     83  \n",
       "1701  Everything You've Ever Wanted To Know About VC...     83  \n",
       "1684  Putting It All Together - How Josh Elman Ident...     83  \n",
       "1646  How An Ancient Chinese War General Would Run Y...     83  \n",
       "1409  Does a Product Manager at a High Growth Techno...     83  \n",
       "1010                    A Product-led Approach to Sales     83  \n",
       "776           Creating design-driven data visualization     83  \n",
       "2204  Sales Operations: How to enable your team with...     83  \n",
       "1209  Startup Funding Explained: Everything You Need...     82  \n",
       "1713  THE FIREWALL: Cybersecurity For Beginners – Da...     81  \n",
       "1327              15 gorgeous website redesign concepts     76  \n",
       "344   Patrick Lencioni : The Four Traits of Healthy ...     73  \n",
       "1999        Subscription Churn Rate Industry Benchmarks     72  \n",
       "504   Julie Zhuo: How a Facebook Designer Thinks [En...     70  \n",
       "286   Work-Bench Blog - Why Kubernetes is Foundation...     67  \n",
       "2017          Top 15 Solr vs. Elasticsearch Differences     64  \n",
       "585   Pitch Practice with Paul Buchheit and Sam Altm...     63  \n",
       "1479                         Strange Loop - IP Spoofing     60  \n",
       "1025           How To Raise Your First Round of Capital     58  \n",
       "1508  How and Why to Start A Startup - Sam Altman &a...     56  \n",
       "93                         26 Product Launch Strategies     47  \n",
       "530                          Mobile is eating the world     46  \n",
       "326   The State of Javascript - Jack Franklin | Augu...     44  \n",
       "1766                      How United Onboards New Users     44  \n",
       "538   Video Of The Week: Jeff Lawson on Having Convi...     42  \n",
       "63    Learn Enough Git to Be Dangerous\\n | Learn Eno...     36  \n",
       "1601  Federated Learning: Collaborative Machine Lear...     33  \n",
       "404                                Elm Is The New Rails     32  \n",
       "1259                    What the Product is (and isn't)     29  \n",
       "284                               From Rails to Phoenix     28  \n",
       "310   The Framing Effect: Simple Tweaks to Stop Losi...     25  \n",
       "665   CTCSS fingerprinting: a method for transmitter...     24  \n",
       "1804  A beginner's guide to acquiring new customers ...     23  \n",
       "283             Introduction to Kubernetes Architecture     23  \n",
       "1493  11 proven practices for more effective, effici...     23  \n",
       "206          The Broken Window Theory In Product Design     22  \n",
       "551     50 Things I've Learned About Product Management     22  \n",
       "1845  Using Machine Learning to Explore Neural Netwo...     21  \n",
       "1540                           Optimizing Twitter Heron     20  \n",
       "1854            5 Steps To Successful Purpose-Driven PR     20  \n",
       "1435          How technical should product managers be?     18  \n",
       "1934  Managing microservices with the Istio service ...     15  \n",
       "523   The Future of Design in Startups 2016 Survey R...     12  \n",
       "514   How Do You Know If You've Achieved Product/Mar...     11  \n",
       "54         Jessica Livingston : How to Build the Future     11  \n",
       "109             Neural Networks Demystified - lumiverse      0  \n",
       "31    The New 'Must Haves' for Mobile Apps to Succee...      0  "
      ]
     },
     "execution_count": 14,
     "metadata": {},
     "output_type": "execute_result"
    }
   ],
   "source": [
    "df[df.words <= 100].sort_values(by=\"words\", ascending=False)"
   ]
  },
  {
   "cell_type": "markdown",
   "metadata": {},
   "source": [
    "Seems like some of them are due to errors during scraping, like:  \n",
    "`please click i am not a robot to continue`  \n",
    "or `javascript is currently disabled in`  \n",
    "I'll remove the ones less than 200 words.\n"
   ]
  },
  {
   "cell_type": "code",
   "execution_count": 15,
   "metadata": {},
   "outputs": [
    {
     "data": {
      "text/html": [
       "<div>\n",
       "<style scoped>\n",
       "    .dataframe tbody tr th:only-of-type {\n",
       "        vertical-align: middle;\n",
       "    }\n",
       "\n",
       "    .dataframe tbody tr th {\n",
       "        vertical-align: top;\n",
       "    }\n",
       "\n",
       "    .dataframe thead th {\n",
       "        text-align: right;\n",
       "    }\n",
       "</style>\n",
       "<table border=\"1\" class=\"dataframe\">\n",
       "  <thead>\n",
       "    <tr style=\"text-align: right;\">\n",
       "      <th></th>\n",
       "      <th>words</th>\n",
       "    </tr>\n",
       "  </thead>\n",
       "  <tbody>\n",
       "    <tr>\n",
       "      <th>count</th>\n",
       "      <td>2280.000000</td>\n",
       "    </tr>\n",
       "    <tr>\n",
       "      <th>mean</th>\n",
       "      <td>1762.273684</td>\n",
       "    </tr>\n",
       "    <tr>\n",
       "      <th>std</th>\n",
       "      <td>1486.327426</td>\n",
       "    </tr>\n",
       "    <tr>\n",
       "      <th>min</th>\n",
       "      <td>202.000000</td>\n",
       "    </tr>\n",
       "    <tr>\n",
       "      <th>1%</th>\n",
       "      <td>237.790000</td>\n",
       "    </tr>\n",
       "    <tr>\n",
       "      <th>5%</th>\n",
       "      <td>396.900000</td>\n",
       "    </tr>\n",
       "    <tr>\n",
       "      <th>25%</th>\n",
       "      <td>859.750000</td>\n",
       "    </tr>\n",
       "    <tr>\n",
       "      <th>50%</th>\n",
       "      <td>1350.000000</td>\n",
       "    </tr>\n",
       "    <tr>\n",
       "      <th>75%</th>\n",
       "      <td>2158.250000</td>\n",
       "    </tr>\n",
       "    <tr>\n",
       "      <th>95%</th>\n",
       "      <td>4287.000000</td>\n",
       "    </tr>\n",
       "    <tr>\n",
       "      <th>98%</th>\n",
       "      <td>5595.400000</td>\n",
       "    </tr>\n",
       "    <tr>\n",
       "      <th>99%</th>\n",
       "      <td>7407.480000</td>\n",
       "    </tr>\n",
       "    <tr>\n",
       "      <th>max</th>\n",
       "      <td>16811.000000</td>\n",
       "    </tr>\n",
       "  </tbody>\n",
       "</table>\n",
       "</div>"
      ],
      "text/plain": [
       "              words\n",
       "count   2280.000000\n",
       "mean    1762.273684\n",
       "std     1486.327426\n",
       "min      202.000000\n",
       "1%       237.790000\n",
       "5%       396.900000\n",
       "25%      859.750000\n",
       "50%     1350.000000\n",
       "75%     2158.250000\n",
       "95%     4287.000000\n",
       "98%     5595.400000\n",
       "99%     7407.480000\n",
       "max    16811.000000"
      ]
     },
     "execution_count": 15,
     "metadata": {},
     "output_type": "execute_result"
    }
   ],
   "source": [
    "df = df[df.words >= 200]\n",
    "df.describe(percentiles=[.01,.05,.25, .5, .75,.95,.98,.99])"
   ]
  },
  {
   "cell_type": "markdown",
   "metadata": {},
   "source": [
    "We will remove stop words as explained earlier, we can see a few even on the first line."
   ]
  },
  {
   "cell_type": "code",
   "execution_count": 16,
   "metadata": {},
   "outputs": [],
   "source": [
    "def remove_stopwords(body):\n",
    "  stop_words = set(stopwords.words('english'))\n",
    "  words = word_tokenize(body)\n",
    "  return [x for x in words if x not in stop_words]\n",
    "\n",
    "df['body'] = df['body'].apply(remove_stopwords)"
   ]
  },
  {
   "cell_type": "markdown",
   "metadata": {},
   "source": [
    "we will factorize the categories (add a numberical id for each category)."
   ]
  },
  {
   "cell_type": "code",
   "execution_count": 17,
   "metadata": {},
   "outputs": [
    {
     "data": {
      "text/html": [
       "<div>\n",
       "<style scoped>\n",
       "    .dataframe tbody tr th:only-of-type {\n",
       "        vertical-align: middle;\n",
       "    }\n",
       "\n",
       "    .dataframe tbody tr th {\n",
       "        vertical-align: top;\n",
       "    }\n",
       "\n",
       "    .dataframe thead th {\n",
       "        text-align: right;\n",
       "    }\n",
       "</style>\n",
       "<table border=\"1\" class=\"dataframe\">\n",
       "  <thead>\n",
       "    <tr style=\"text-align: right;\">\n",
       "      <th></th>\n",
       "      <th>body</th>\n",
       "      <th>title</th>\n",
       "      <th>category</th>\n",
       "      <th>body_org</th>\n",
       "      <th>title_org</th>\n",
       "      <th>words</th>\n",
       "      <th>categoryId</th>\n",
       "    </tr>\n",
       "  </thead>\n",
       "  <tbody>\n",
       "    <tr>\n",
       "      <th>2475</th>\n",
       "      <td>[true, personalization, popular, always, answe...</td>\n",
       "      <td>why personalization is dead  and what to do in...</td>\n",
       "      <td>Startups &amp; Business</td>\n",
       "      <td>It’s true: personalization is popular.\\n\\nBut,...</td>\n",
       "      <td>Why Personalization is Dead (And What to Do In...</td>\n",
       "      <td>2335</td>\n",
       "      <td>1</td>\n",
       "    </tr>\n",
       "    <tr>\n",
       "      <th>2476</th>\n",
       "      <td>[early, stage, focus, unit, economic, profitab...</td>\n",
       "      <td>at the early stage  focus on unit economic pro...</td>\n",
       "      <td>Startups &amp; Business</td>\n",
       "      <td>At the Early Stage, Focus on Unit Economic Pro...</td>\n",
       "      <td>At the Early Stage, Focus on Unit Economic Pro...</td>\n",
       "      <td>1265</td>\n",
       "      <td>1</td>\n",
       "    </tr>\n",
       "    <tr>\n",
       "      <th>2477</th>\n",
       "      <td>[5, tips, nail, successful, product, launch, p...</td>\n",
       "      <td>5 tips to nail a successful product launch</td>\n",
       "      <td>Startups &amp; Business</td>\n",
       "      <td>5 Tips to Nail a Successful Product Launch\\n\\n...</td>\n",
       "      <td>5 Tips to Nail a Successful Product Launch</td>\n",
       "      <td>1602</td>\n",
       "      <td>1</td>\n",
       "    </tr>\n",
       "    <tr>\n",
       "      <th>2478</th>\n",
       "      <td>[routes, defensibility, ai, startup, simple, f...</td>\n",
       "      <td>routes to defensibility for your ai startup</td>\n",
       "      <td>Engineering</td>\n",
       "      <td>Routes to Defensibility for your AI Startup\\n\\...</td>\n",
       "      <td>Routes to Defensibility for your AI Startup</td>\n",
       "      <td>2645</td>\n",
       "      <td>0</td>\n",
       "    </tr>\n",
       "    <tr>\n",
       "      <th>2479</th>\n",
       "      <td>[faster, faster, faster, like, talk, fast, lef...</td>\n",
       "      <td>faster  faster  faster</td>\n",
       "      <td>Product &amp; Design</td>\n",
       "      <td>Faster. Faster. Faster.\\r\\n\\r\\nI’d like to tal...</td>\n",
       "      <td>Faster. Faster. Faster.</td>\n",
       "      <td>873</td>\n",
       "      <td>2</td>\n",
       "    </tr>\n",
       "  </tbody>\n",
       "</table>\n",
       "</div>"
      ],
      "text/plain": [
       "                                                   body  \\\n",
       "2475  [true, personalization, popular, always, answe...   \n",
       "2476  [early, stage, focus, unit, economic, profitab...   \n",
       "2477  [5, tips, nail, successful, product, launch, p...   \n",
       "2478  [routes, defensibility, ai, startup, simple, f...   \n",
       "2479  [faster, faster, faster, like, talk, fast, lef...   \n",
       "\n",
       "                                                  title             category  \\\n",
       "2475  why personalization is dead  and what to do in...  Startups & Business   \n",
       "2476  at the early stage  focus on unit economic pro...  Startups & Business   \n",
       "2477         5 tips to nail a successful product launch  Startups & Business   \n",
       "2478        routes to defensibility for your ai startup          Engineering   \n",
       "2479                            faster  faster  faster      Product & Design   \n",
       "\n",
       "                                               body_org  \\\n",
       "2475  It’s true: personalization is popular.\\n\\nBut,...   \n",
       "2476  At the Early Stage, Focus on Unit Economic Pro...   \n",
       "2477  5 Tips to Nail a Successful Product Launch\\n\\n...   \n",
       "2478  Routes to Defensibility for your AI Startup\\n\\...   \n",
       "2479  Faster. Faster. Faster.\\r\\n\\r\\nI’d like to tal...   \n",
       "\n",
       "                                              title_org  words  categoryId  \n",
       "2475  Why Personalization is Dead (And What to Do In...   2335           1  \n",
       "2476  At the Early Stage, Focus on Unit Economic Pro...   1265           1  \n",
       "2477         5 Tips to Nail a Successful Product Launch   1602           1  \n",
       "2478        Routes to Defensibility for your AI Startup   2645           0  \n",
       "2479                            Faster. Faster. Faster.    873           2  "
      ]
     },
     "execution_count": 17,
     "metadata": {},
     "output_type": "execute_result"
    }
   ],
   "source": [
    "target_category = df['category'].unique()\n",
    "df['categoryId'] = df['category'].factorize()[0]\n",
    "df.tail()"
   ]
  },
  {
   "cell_type": "markdown",
   "metadata": {},
   "source": [
    "There are three categories in this df."
   ]
  },
  {
   "cell_type": "code",
   "execution_count": 18,
   "metadata": {},
   "outputs": [
    {
     "data": {
      "text/html": [
       "<div>\n",
       "<style scoped>\n",
       "    .dataframe tbody tr th:only-of-type {\n",
       "        vertical-align: middle;\n",
       "    }\n",
       "\n",
       "    .dataframe tbody tr th {\n",
       "        vertical-align: top;\n",
       "    }\n",
       "\n",
       "    .dataframe thead th {\n",
       "        text-align: right;\n",
       "    }\n",
       "</style>\n",
       "<table border=\"1\" class=\"dataframe\">\n",
       "  <thead>\n",
       "    <tr style=\"text-align: right;\">\n",
       "      <th></th>\n",
       "      <th>category</th>\n",
       "      <th>categoryId</th>\n",
       "    </tr>\n",
       "  </thead>\n",
       "  <tbody>\n",
       "    <tr>\n",
       "      <th>0</th>\n",
       "      <td>Engineering</td>\n",
       "      <td>0</td>\n",
       "    </tr>\n",
       "    <tr>\n",
       "      <th>7</th>\n",
       "      <td>Startups &amp; Business</td>\n",
       "      <td>1</td>\n",
       "    </tr>\n",
       "    <tr>\n",
       "      <th>57</th>\n",
       "      <td>Product &amp; Design</td>\n",
       "      <td>2</td>\n",
       "    </tr>\n",
       "  </tbody>\n",
       "</table>\n",
       "</div>"
      ],
      "text/plain": [
       "               category  categoryId\n",
       "0           Engineering           0\n",
       "7   Startups & Business           1\n",
       "57     Product & Design           2"
      ]
     },
     "execution_count": 18,
     "metadata": {},
     "output_type": "execute_result"
    }
   ],
   "source": [
    "category = df[['category', 'categoryId']].drop_duplicates().sort_values('categoryId')\n",
    "category"
   ]
  },
  {
   "cell_type": "markdown",
   "metadata": {},
   "source": [
    "Looking at the distribtution of the values, Startups & Business\tis the most common, with Engineering being the least common."
   ]
  },
  {
   "cell_type": "code",
   "execution_count": 19,
   "metadata": {},
   "outputs": [
    {
     "data": {
      "text/plain": [
       "Startups & Business    967\n",
       "Product & Design       809\n",
       "Engineering            504\n",
       "Name: category, dtype: int64"
      ]
     },
     "execution_count": 19,
     "metadata": {},
     "output_type": "execute_result"
    }
   ],
   "source": [
    "df['category'].value_counts()"
   ]
  },
  {
   "cell_type": "markdown",
   "metadata": {},
   "source": [
    "Splitting the dataset, we will be using the body column for training our models."
   ]
  },
  {
   "cell_type": "code",
   "execution_count": 20,
   "metadata": {},
   "outputs": [],
   "source": [
    "body = df[\"body\"]\n",
    "category = df['category']"
   ]
  },
  {
   "cell_type": "markdown",
   "metadata": {},
   "source": [
    "we will use NLTK lib for stemming/lemmatization (converting words to their root (lemma), for example cars to car)"
   ]
  },
  {
   "cell_type": "code",
   "execution_count": 21,
   "metadata": {},
   "outputs": [],
   "source": [
    "def lemmatize_word(body):\n",
    "  wordnet = WordNetLemmatizer()\n",
    "  return \" \".join([wordnet.lemmatize(word) for word in body])\n",
    "df['body'] = df['body'].apply(lemmatize_word)"
   ]
  },
  {
   "cell_type": "code",
   "execution_count": 22,
   "metadata": {},
   "outputs": [
    {
     "data": {
      "text/html": [
       "<div>\n",
       "<style scoped>\n",
       "    .dataframe tbody tr th:only-of-type {\n",
       "        vertical-align: middle;\n",
       "    }\n",
       "\n",
       "    .dataframe tbody tr th {\n",
       "        vertical-align: top;\n",
       "    }\n",
       "\n",
       "    .dataframe thead th {\n",
       "        text-align: right;\n",
       "    }\n",
       "</style>\n",
       "<table border=\"1\" class=\"dataframe\">\n",
       "  <thead>\n",
       "    <tr style=\"text-align: right;\">\n",
       "      <th></th>\n",
       "      <th>body</th>\n",
       "      <th>title</th>\n",
       "      <th>category</th>\n",
       "      <th>body_org</th>\n",
       "      <th>title_org</th>\n",
       "      <th>words</th>\n",
       "      <th>categoryId</th>\n",
       "    </tr>\n",
       "  </thead>\n",
       "  <tbody>\n",
       "    <tr>\n",
       "      <th>2475</th>\n",
       "      <td>true personalization popular always answer tri...</td>\n",
       "      <td>why personalization is dead  and what to do in...</td>\n",
       "      <td>Startups &amp; Business</td>\n",
       "      <td>It’s true: personalization is popular.\\n\\nBut,...</td>\n",
       "      <td>Why Personalization is Dead (And What to Do In...</td>\n",
       "      <td>2335</td>\n",
       "      <td>1</td>\n",
       "    </tr>\n",
       "    <tr>\n",
       "      <th>2476</th>\n",
       "      <td>early stage focus unit economic profitability ...</td>\n",
       "      <td>at the early stage  focus on unit economic pro...</td>\n",
       "      <td>Startups &amp; Business</td>\n",
       "      <td>At the Early Stage, Focus on Unit Economic Pro...</td>\n",
       "      <td>At the Early Stage, Focus on Unit Economic Pro...</td>\n",
       "      <td>1265</td>\n",
       "      <td>1</td>\n",
       "    </tr>\n",
       "    <tr>\n",
       "      <th>2477</th>\n",
       "      <td>5 tip nail successful product launch past two ...</td>\n",
       "      <td>5 tips to nail a successful product launch</td>\n",
       "      <td>Startups &amp; Business</td>\n",
       "      <td>5 Tips to Nail a Successful Product Launch\\n\\n...</td>\n",
       "      <td>5 Tips to Nail a Successful Product Launch</td>\n",
       "      <td>1602</td>\n",
       "      <td>1</td>\n",
       "    </tr>\n",
       "    <tr>\n",
       "      <th>2478</th>\n",
       "      <td>route defensibility ai startup simple framewor...</td>\n",
       "      <td>routes to defensibility for your ai startup</td>\n",
       "      <td>Engineering</td>\n",
       "      <td>Routes to Defensibility for your AI Startup\\n\\...</td>\n",
       "      <td>Routes to Defensibility for your AI Startup</td>\n",
       "      <td>2645</td>\n",
       "      <td>0</td>\n",
       "    </tr>\n",
       "    <tr>\n",
       "      <th>2479</th>\n",
       "      <td>faster faster faster like talk fast left build...</td>\n",
       "      <td>faster  faster  faster</td>\n",
       "      <td>Product &amp; Design</td>\n",
       "      <td>Faster. Faster. Faster.\\r\\n\\r\\nI’d like to tal...</td>\n",
       "      <td>Faster. Faster. Faster.</td>\n",
       "      <td>873</td>\n",
       "      <td>2</td>\n",
       "    </tr>\n",
       "  </tbody>\n",
       "</table>\n",
       "</div>"
      ],
      "text/plain": [
       "                                                   body  \\\n",
       "2475  true personalization popular always answer tri...   \n",
       "2476  early stage focus unit economic profitability ...   \n",
       "2477  5 tip nail successful product launch past two ...   \n",
       "2478  route defensibility ai startup simple framewor...   \n",
       "2479  faster faster faster like talk fast left build...   \n",
       "\n",
       "                                                  title             category  \\\n",
       "2475  why personalization is dead  and what to do in...  Startups & Business   \n",
       "2476  at the early stage  focus on unit economic pro...  Startups & Business   \n",
       "2477         5 tips to nail a successful product launch  Startups & Business   \n",
       "2478        routes to defensibility for your ai startup          Engineering   \n",
       "2479                            faster  faster  faster      Product & Design   \n",
       "\n",
       "                                               body_org  \\\n",
       "2475  It’s true: personalization is popular.\\n\\nBut,...   \n",
       "2476  At the Early Stage, Focus on Unit Economic Pro...   \n",
       "2477  5 Tips to Nail a Successful Product Launch\\n\\n...   \n",
       "2478  Routes to Defensibility for your AI Startup\\n\\...   \n",
       "2479  Faster. Faster. Faster.\\r\\n\\r\\nI’d like to tal...   \n",
       "\n",
       "                                              title_org  words  categoryId  \n",
       "2475  Why Personalization is Dead (And What to Do In...   2335           1  \n",
       "2476  At the Early Stage, Focus on Unit Economic Pro...   1265           1  \n",
       "2477         5 Tips to Nail a Successful Product Launch   1602           1  \n",
       "2478        Routes to Defensibility for your AI Startup   2645           0  \n",
       "2479                            Faster. Faster. Faster.    873           2  "
      ]
     },
     "execution_count": 22,
     "metadata": {},
     "output_type": "execute_result"
    }
   ],
   "source": [
    "df.tail()"
   ]
  },
  {
   "cell_type": "markdown",
   "metadata": {},
   "source": [
    "splitting the df to prepare for model, x is the body of article, the training column and y is the category, what we're trying to predict."
   ]
  },
  {
   "cell_type": "code",
   "execution_count": 23,
   "metadata": {},
   "outputs": [],
   "source": [
    "x = df['body']\n",
    "y = df['categoryId']"
   ]
  },
  {
   "cell_type": "markdown",
   "metadata": {},
   "source": [
    "### Preparing models"
   ]
  },
  {
   "cell_type": "markdown",
   "metadata": {},
   "source": [
    "we will use a scikit-learn function to vectorize our words (convert words to the count of which they're appearing in said article).  \n",
    "I'll be seeing the max features parameter to limit the words to take into consideration into the most frequent words, so the models don't take long.  \n",
    "according to research, with only knowing 800 lammas, you can understand 75% of the language.  \n",
    "you need about 8000 (which is more than 99% of the articles here) lemmas to get around well written newspapers, so I'll be sitting it for half of that at **4000** for speed.  \n",
    "Source: https://www.bbc.com/news/world-44569277"
   ]
  },
  {
   "cell_type": "code",
   "execution_count": 24,
   "metadata": {},
   "outputs": [
    {
     "name": "stdout",
     "output_type": "stream",
     "text": [
      "X.shape =  (2280, 8000)\n",
      "y.shape =  (2280,)\n"
     ]
    }
   ],
   "source": [
    "x = np.array(df.iloc[:,0].values)\n",
    "y = np.array(df.categoryId.values)\n",
    "cv = CountVectorizer(max_features = 8000)\n",
    "x = cv.fit_transform(df.body).toarray()\n",
    "print(\"X.shape = \",x.shape)\n",
    "print(\"y.shape = \",y.shape)"
   ]
  },
  {
   "cell_type": "markdown",
   "metadata": {},
   "source": [
    "we will split our df into a training and a test parts, using 30% for test and 70% training.  "
   ]
  },
  {
   "cell_type": "code",
   "execution_count": 25,
   "metadata": {},
   "outputs": [
    {
     "name": "stdout",
     "output_type": "stream",
     "text": [
      "1596\n",
      "684\n"
     ]
    }
   ],
   "source": [
    "x_train, x_test, y_train, y_test = train_test_split(x, y, train_size = 0.7, random_state = 0)\n",
    "\n",
    "print(len(x_train))\n",
    "print(len(x_test))"
   ]
  },
  {
   "cell_type": "markdown",
   "metadata": {},
   "source": [
    "I'll create a function to try different models and then output the scores of these models into a pandas dataframe for comparison."
   ]
  },
  {
   "cell_type": "code",
   "execution_count": 26,
   "metadata": {},
   "outputs": [],
   "source": [
    "#create list of model and their performance\n",
    "perform_list = []\n",
    "\n",
    "def try_model(model_name):\n",
    "    mdl=''\n",
    "    if model_name == 'Logistic Regression':\n",
    "        mdl = LogisticRegression(max_iter=500) #increasing iterations since default 100 wasn't enough\n",
    "    elif model_name == 'Random Forest':\n",
    "        mdl = RandomForestClassifier()\n",
    "    elif model_name == 'Multinomial Naive Bayes':\n",
    "        mdl = MultinomialNB()\n",
    "    elif model_name == 'Decision Tree Classifier':\n",
    "        mdl = DecisionTreeClassifier()\n",
    "    elif model_name == 'K Nearest Neighbour':\n",
    "        mdl = KNeighborsClassifier()\n",
    "    elif model_name == 'Gaussian Naive Bayes':\n",
    "        mdl = GaussianNB()\n",
    "   \n",
    "\n",
    "\n",
    "    oneVsRest = OneVsRestClassifier(mdl)\n",
    "    oneVsRest.fit(x_train, y_train)\n",
    "    y_pred = oneVsRest.predict(x_test)\n",
    "    \n",
    "    \n",
    "    # Performance metrics\n",
    "    accuracy = round(accuracy_score(y_test, y_pred) * 100, 4)\n",
    "    # Get the weighted precision, recall, f1 scores\n",
    "    precision, recall, f1score, support = score(y_test, y_pred, average='weighted')\n",
    "\n",
    "    print(f'Test Accuracy Score of Basic {model_name}: % {accuracy}')\n",
    "    print(f'Precision : {precision}')\n",
    "    print(f'Recall    : {recall}')\n",
    "    print(f'F1-score   : {f1score}')\n",
    "\n",
    "    # Add performance parameters to list\n",
    "    perform_list.append(dict([\n",
    "        ('Model', model_name),\n",
    "        ('Test Accuracy', round(accuracy, 4)),\n",
    "        ('Precision', round(precision, 4)),\n",
    "        ('Recall', round(recall, 4)),\n",
    "        ('F1', round(f1score, 4))\n",
    "         ]))\n"
   ]
  },
  {
   "cell_type": "code",
   "execution_count": 27,
   "metadata": {},
   "outputs": [
    {
     "name": "stdout",
     "output_type": "stream",
     "text": [
      "Test Accuracy Score of Basic Logistic Regression: % 83.7719\n",
      "Precision : 0.8418543928519849\n",
      "Recall    : 0.8377192982456141\n",
      "F1-score   : 0.8388729251072357\n",
      "Test Accuracy Score of Basic Random Forest: % 85.0877\n",
      "Precision : 0.8540231462440668\n",
      "Recall    : 0.8508771929824561\n",
      "F1-score   : 0.8512340979029853\n",
      "Test Accuracy Score of Basic Multinomial Naive Bayes: % 83.4795\n",
      "Precision : 0.8516542278688471\n",
      "Recall    : 0.8347953216374269\n",
      "F1-score   : 0.8362687884157204\n",
      "Test Accuracy Score of Basic Decision Tree Classifier: % 67.8363\n",
      "Precision : 0.7598843463037166\n",
      "Recall    : 0.6783625730994152\n",
      "F1-score   : 0.6834166627785949\n",
      "Test Accuracy Score of Basic K Nearest Neighbour: % 74.5614\n",
      "Precision : 0.7832181536580224\n",
      "Recall    : 0.7456140350877193\n",
      "F1-score   : 0.7440639287613273\n",
      "Test Accuracy Score of Basic Gaussian Naive Bayes: % 65.6433\n",
      "Precision : 0.721733528708094\n",
      "Recall    : 0.6564327485380117\n",
      "F1-score   : 0.6616302330310546\n"
     ]
    }
   ],
   "source": [
    "for mod_n in ['Logistic Regression', \n",
    "'Random Forest', \n",
    "'Multinomial Naive Bayes', \n",
    "'Decision Tree Classifier', \n",
    "'K Nearest Neighbour', \n",
    "'Gaussian Naive Bayes']: \n",
    "    try_model(mod_n)"
   ]
  },
  {
   "cell_type": "markdown",
   "metadata": {},
   "source": [
    "We find that the Random Forest model is giving the best results, so we will go with that one."
   ]
  },
  {
   "cell_type": "code",
   "execution_count": 28,
   "metadata": {},
   "outputs": [
    {
     "data": {
      "text/html": [
       "<div>\n",
       "<style scoped>\n",
       "    .dataframe tbody tr th:only-of-type {\n",
       "        vertical-align: middle;\n",
       "    }\n",
       "\n",
       "    .dataframe tbody tr th {\n",
       "        vertical-align: top;\n",
       "    }\n",
       "\n",
       "    .dataframe thead th {\n",
       "        text-align: right;\n",
       "    }\n",
       "</style>\n",
       "<table border=\"1\" class=\"dataframe\">\n",
       "  <thead>\n",
       "    <tr style=\"text-align: right;\">\n",
       "      <th></th>\n",
       "      <th>Model</th>\n",
       "      <th>Test Accuracy</th>\n",
       "      <th>Precision</th>\n",
       "      <th>Recall</th>\n",
       "      <th>F1</th>\n",
       "    </tr>\n",
       "  </thead>\n",
       "  <tbody>\n",
       "    <tr>\n",
       "      <th>0</th>\n",
       "      <td>Logistic Regression</td>\n",
       "      <td>83.7719</td>\n",
       "      <td>0.8419</td>\n",
       "      <td>0.8377</td>\n",
       "      <td>0.8389</td>\n",
       "    </tr>\n",
       "    <tr>\n",
       "      <th>1</th>\n",
       "      <td>Random Forest</td>\n",
       "      <td>85.0877</td>\n",
       "      <td>0.8540</td>\n",
       "      <td>0.8509</td>\n",
       "      <td>0.8512</td>\n",
       "    </tr>\n",
       "    <tr>\n",
       "      <th>2</th>\n",
       "      <td>Multinomial Naive Bayes</td>\n",
       "      <td>83.4795</td>\n",
       "      <td>0.8517</td>\n",
       "      <td>0.8348</td>\n",
       "      <td>0.8363</td>\n",
       "    </tr>\n",
       "    <tr>\n",
       "      <th>3</th>\n",
       "      <td>Decision Tree Classifier</td>\n",
       "      <td>67.8363</td>\n",
       "      <td>0.7599</td>\n",
       "      <td>0.6784</td>\n",
       "      <td>0.6834</td>\n",
       "    </tr>\n",
       "    <tr>\n",
       "      <th>4</th>\n",
       "      <td>K Nearest Neighbour</td>\n",
       "      <td>74.5614</td>\n",
       "      <td>0.7832</td>\n",
       "      <td>0.7456</td>\n",
       "      <td>0.7441</td>\n",
       "    </tr>\n",
       "    <tr>\n",
       "      <th>5</th>\n",
       "      <td>Gaussian Naive Bayes</td>\n",
       "      <td>65.6433</td>\n",
       "      <td>0.7217</td>\n",
       "      <td>0.6564</td>\n",
       "      <td>0.6616</td>\n",
       "    </tr>\n",
       "  </tbody>\n",
       "</table>\n",
       "</div>"
      ],
      "text/plain": [
       "                      Model  Test Accuracy  Precision  Recall      F1\n",
       "0       Logistic Regression        83.7719     0.8419  0.8377  0.8389\n",
       "1             Random Forest        85.0877     0.8540  0.8509  0.8512\n",
       "2   Multinomial Naive Bayes        83.4795     0.8517  0.8348  0.8363\n",
       "3  Decision Tree Classifier        67.8363     0.7599  0.6784  0.6834\n",
       "4       K Nearest Neighbour        74.5614     0.7832  0.7456  0.7441\n",
       "5      Gaussian Naive Bayes        65.6433     0.7217  0.6564  0.6616"
      ]
     },
     "execution_count": 28,
     "metadata": {},
     "output_type": "execute_result"
    }
   ],
   "source": [
    "model_performance = pd.DataFrame(data=perform_list)\n",
    "model_performance = model_performance[['Model', 'Test Accuracy', 'Precision', 'Recall', 'F1']]\n",
    "model_performance"
   ]
  },
  {
   "cell_type": "code",
   "execution_count": 29,
   "metadata": {},
   "outputs": [
    {
     "name": "stdout",
     "output_type": "stream",
     "text": [
      "The model with the most accuracy is Random Forest at 85.0877%\n"
     ]
    }
   ],
   "source": [
    "row = model_performance.iloc[model_performance['Test Accuracy'].idxmax()]\n",
    "max_value = row['Test Accuracy']\n",
    "max_model = row['Model']\n",
    "print(\"The model with the most accuracy is {} at {}%\".format(max_model, max_value))"
   ]
  },
  {
   "cell_type": "markdown",
   "metadata": {},
   "source": [
    "#### Cross Validation and Parameter optimizing for Random Forest."
   ]
  },
  {
   "cell_type": "markdown",
   "metadata": {},
   "source": [
    "I'll use GridSearchCV from science kit to perform cross validation and check for a better optimized model"
   ]
  },
  {
   "cell_type": "markdown",
   "metadata": {},
   "source": [
    "I'll be keeping the defaults for the RandomForestClassifier() as is, but will change the number of estimators to see which is best.  \n",
    "Keeping defaults means max_depth= None which is unlimited, at the cost of performance"
   ]
  },
  {
   "cell_type": "code",
   "execution_count": 30,
   "metadata": {},
   "outputs": [
    {
     "name": "stdout",
     "output_type": "stream",
     "text": [
      "0.8333333333333334\n"
     ]
    }
   ],
   "source": [
    "forest = RandomForestClassifier(random_state = 0, n_estimators = 100)\n",
    "forest.fit(x_train,y_train)\n",
    "y_pred_best = forest.predict(x_test)\n",
    "\n",
    "print(accuracy_score(y_test , y_pred_best))"
   ]
  },
  {
   "cell_type": "code",
   "execution_count": 31,
   "metadata": {},
   "outputs": [
    {
     "data": {
      "text/plain": [
       "{'n_estimators': 1000}"
      ]
     },
     "execution_count": 31,
     "metadata": {},
     "output_type": "execute_result"
    }
   ],
   "source": [
    "from sklearn.model_selection import GridSearchCV\n",
    "\n",
    "rfc=RandomForestClassifier(random_state=0)\n",
    "\n",
    "param_grid = { \n",
    "    'n_estimators': [100, 200, 400, 700, 1000]\n",
    "}\n",
    "\n",
    "CV_rfc = GridSearchCV(estimator=rfc, param_grid=param_grid, cv= None)\n",
    "CV_rfc.fit(x_train, y_train)\n",
    "CV_rfc.best_params_"
   ]
  },
  {
   "cell_type": "code",
   "execution_count": 32,
   "metadata": {},
   "outputs": [
    {
     "name": "stdout",
     "output_type": "stream",
     "text": [
      "0.8333333333333334\n",
      "                     precision    recall  f1-score   support\n",
      "\n",
      "        Engineering       0.86      0.98      0.91       145\n",
      "Startups & Business       0.87      0.81      0.84       328\n",
      "   Product & Design       0.76      0.77      0.77       211\n",
      "\n",
      "           accuracy                           0.83       684\n",
      "          macro avg       0.83      0.85      0.84       684\n",
      "       weighted avg       0.83      0.83      0.83       684\n",
      "\n"
     ]
    }
   ],
   "source": [
    "forest = RandomForestClassifier(random_state = 0, n_estimators = 100)\n",
    "forest.fit(x_train,y_train)\n",
    "y_pred_best = forest.predict(x_test)\n",
    "\n",
    "print(accuracy_score(y_test , y_pred_best))\n",
    "print(classification_report(y_pred_best, y_test, target_names=target_category))"
   ]
  },
  {
   "cell_type": "markdown",
   "metadata": {},
   "source": [
    "We see that with more estimators the accuracy barely by less than 1%, but for 7 times the time needs, I think staying with the default 100 is best.  "
   ]
  },
  {
   "cell_type": "code",
   "execution_count": 33,
   "metadata": {},
   "outputs": [
    {
     "data": {
      "image/png": "[encoded data removed]",
      "text/plain": [
       "<Figure size 432x288 with 1 Axes>"
      ]
     },
     "metadata": {
      "needs_background": "light"
     },
     "output_type": "display_data"
    }
   ],
   "source": [
    "df.groupby('category').categoryId.value_counts().plot(kind = \"barh\")\n",
    "plt.xlabel(\"category of data\")\n",
    "plt.title(\"Visulaize numbers of Category of data\")\n",
    "plt.show()"
   ]
  },
  {
   "cell_type": "code",
   "execution_count": 34,
   "metadata": {},
   "outputs": [
    {
     "data": {
      "text/plain": [
       "<sklearn.metrics._plot.confusion_matrix.ConfusionMatrixDisplay at 0x200b48aadc0>"
      ]
     },
     "execution_count": 34,
     "metadata": {},
     "output_type": "execute_result"
    },
    {
     "data": {
      "image/png": "[encoded data removed]",
      "text/plain": [
       "<Figure size 432x288 with 2 Axes>"
      ]
     },
     "metadata": {
      "needs_background": "light"
     },
     "output_type": "display_data"
    }
   ],
   "source": [
    "from sklearn.metrics import confusion_matrix, ConfusionMatrixDisplay\n",
    "ConfusionMatrixDisplay(confusion_matrix(y_test, y_pred_best)).plot()"
   ]
  },
  {
   "cell_type": "markdown",
   "metadata": {},
   "source": [
    "We can see from the confusion matrix that the most wrong prediction are between category 1 (Business) and 2  (Product), which makes sense given that they both have most values and probably a lot of overlap in terms used."
   ]
  },
  {
   "cell_type": "markdown",
   "metadata": {},
   "source": [
    "We will use a popular visual called word cloud to look at the popular words for each category of articles."
   ]
  },
  {
   "cell_type": "code",
   "execution_count": 35,
   "metadata": {},
   "outputs": [],
   "source": [
    "#Getting a dataframe for each category\n",
    "\n",
    "business = df[df['categoryId'] == 1]\n",
    "\n",
    "business = business['body']\n",
    "\n",
    "product = df[df['categoryId'] == 2]\n",
    "\n",
    "product = product['body']\n",
    "\n",
    "eng = df[df['categoryId'] == 0]\n",
    "\n",
    "eng = eng['body']"
   ]
  },
  {
   "cell_type": "code",
   "execution_count": 36,
   "metadata": {},
   "outputs": [
    {
     "name": "stdout",
     "output_type": "stream",
     "text": [
      "Words common in business articles:\n",
      "Words commoon in product articles:\n",
      "Words common in engineering articles:\n"
     ]
    }
   ],
   "source": [
    "# we will use NLTK lib to remove stop words (words that are common in English without effect on context, like \"the\" or \"an\")\n",
    "\n",
    "stop = set(stopwords.words('english'))\n",
    "\n",
    "def wordcloud_draw(df, color = 'white'):\n",
    "    words = ' '.join(df)\n",
    "    cleaned_word = ' '.join([word for word in words.split()])\n",
    "    wordcloud = WordCloud(stopwords = stop,\n",
    "    background_color = color,\n",
    "    width = 2500, height = 2500).generate(cleaned_word)\n",
    "    \n",
    "    plt.figure(1, figsize = (10,7))\n",
    "    plt.imshow(wordcloud)\n",
    "    plt.axis(\"off\")\n",
    "    plt.show()\n",
    "\n",
    "print(\"Words common in business articles:\")\n",
    "#wordcloud_draw(business, 'white')\n",
    "\n",
    "print(\"Words commoon in product articles:\")\n",
    "#wordcloud_draw(product, 'white')\n",
    "\n",
    "print(\"Words common in engineering articles:\")\n",
    "#wordcloud_draw(eng, 'white')"
   ]
  },
  {
   "cell_type": "markdown",
   "metadata": {},
   "source": [
    "#### Conclusion\n",
    "We can see that there is a lot of of overlap between the three categories, like \"Team\", \"User\", and \"Product\".  \n",
    "Which makes sense given that engineering makes products for businesses (the three categories we have)."
   ]
  },
  {
   "cell_type": "markdown",
   "metadata": {},
   "source": [
    "#### Clustering"
   ]
  },
  {
   "cell_type": "markdown",
   "metadata": {},
   "source": [
    "We now will do the clustering part, for reference: https://towardsdatascience.com/k-means-clustering-with-scikit-learn-6b47a369a83c"
   ]
  },
  {
   "cell_type": "markdown",
   "metadata": {},
   "source": [
    "Repeating the features as earlier, but doing only engineering"
   ]
  },
  {
   "cell_type": "code",
   "execution_count": 37,
   "metadata": {},
   "outputs": [
    {
     "name": "stdout",
     "output_type": "stream",
     "text": [
      "X.shape =  (504, 8000)\n",
      "y.shape =  (504,)\n"
     ]
    }
   ],
   "source": [
    "df = df[df.category == 'Engineering']\n",
    "\n",
    "x = df['body']\n",
    "y = df['categoryId']\n",
    "\n",
    "x = np.array(df.iloc[:,0].values)\n",
    "y = np.array(df.categoryId.values)\n",
    "cv = CountVectorizer(max_features = 8000)\n",
    "x = cv.fit_transform(df.body).toarray()\n",
    "print(\"X.shape = \",x.shape)\n",
    "print(\"y.shape = \",y.shape)"
   ]
  },
  {
   "cell_type": "code",
   "execution_count": 38,
   "metadata": {},
   "outputs": [],
   "source": [
    "silhouette = []\n",
    "test_count = np.arange(2, 31)\n",
    "\n",
    "for k in test_count:\n",
    "    kmeans = KMeans(k, random_state=0)\n",
    "    model = kmeans.fit(x)\n",
    "    preds = model.predict(x)\n",
    "    sil_score = silhouette_score(x, preds)\n",
    "    score = np.abs(model.score(x))\n",
    "    silhouette.append(sil_score)"
   ]
  },
  {
   "cell_type": "code",
   "execution_count": 39,
   "metadata": {},
   "outputs": [
    {
     "data": {
      "image/png": "[encoded data removed]",
      "text/plain": [
       "<Figure size 1080x576 with 1 Axes>"
      ]
     },
     "metadata": {
      "needs_background": "light"
     },
     "output_type": "display_data"
    }
   ],
   "source": [
    "plt.figure(figsize=(15, 8))\n",
    "plt.xticks(np.arange(0, test_count[-1]+1, step=1))\n",
    "plt.plot(test_count, silhouette, linestyle='-', marker='o');"
   ]
  },
  {
   "cell_type": "markdown",
   "metadata": {},
   "source": [
    "Seems the optimal number is two clusters, but will use four as mentioned in the project description"
   ]
  },
  {
   "cell_type": "code",
   "execution_count": 40,
   "metadata": {},
   "outputs": [],
   "source": [
    "kmeans_n = KMeans(n_clusters=4, random_state=0)\n",
    "model_eng = kmeans_n.fit(x)\n",
    "clusters_eng = model_eng.predict(x)"
   ]
  },
  {
   "cell_type": "code",
   "execution_count": 41,
   "metadata": {},
   "outputs": [
    {
     "name": "stdout",
     "output_type": "stream",
     "text": [
      "[[  0   1]\n",
      " [  1  12]\n",
      " [  2   1]\n",
      " [  3 490]]\n"
     ]
    }
   ],
   "source": [
    "(unique, counts) = np.unique(clusters_eng, return_counts=True)\n",
    "frequencies = np.asarray((unique, counts)).T\n",
    "print(frequencies)"
   ]
  },
  {
   "cell_type": "markdown",
   "metadata": {},
   "source": [
    "As we see here, most (490 articles) fall into cluster 3, with barely any clusters in the other groups (only 14), so 2 clusters should been optimal."
   ]
  },
  {
   "cell_type": "code",
   "execution_count": 42,
   "metadata": {},
   "outputs": [],
   "source": [
    "df[\"Cluster\"] = clusters_eng"
   ]
  },
  {
   "cell_type": "code",
   "execution_count": 43,
   "metadata": {},
   "outputs": [],
   "source": [
    "jsondf = df[[\"body_org\", \"title_org\", \"Cluster\"]]\n",
    "jsondf.to_json(\"eng_clusters.json\", orient=\"table\")"
   ]
  }
 ],
 "metadata": {
  "interpreter": {
   "hash": "ee3eff085112adc1ec06012b5ffc64a54298c5c52c1fb4175ec3bec0afab46df"
  },
  "kernelspec": {
   "display_name": "Python 3.9.0 ('egyfwd')",
   "language": "python",
   "name": "python3"
  },
  "language_info": {
   "codemirror_mode": {
    "name": "ipython",
    "version": 3
   },
   "file_extension": ".py",
   "mimetype": "text/x-python",
   "name": "python",
   "nbconvert_exporter": "python",
   "pygments_lexer": "ipython3",
   "version": "3.9.0"
  },
  "orig_nbformat": 4
 },
 "nbformat": 4,
 "nbformat_minor": 2
}
